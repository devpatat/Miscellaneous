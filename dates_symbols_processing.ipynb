{
 "cells": [
  {
   "cell_type": "code",
   "execution_count": 45,
   "metadata": {},
   "outputs": [
    {
     "name": "stdout",
     "output_type": "stream",
     "text": [
      "['Mar Cambridge Sales and Traffic.csv', 'Mar Endomune Sales and Traffic.csv', 'Mar MB Sales and Traffic.csv', 'Mar TYE Medical Sales and Traffic.csv', 'Mar Zobmondo Sales and Traffic.csv']\n"
     ]
    }
   ],
   "source": [
    "import os\n",
    "import glob\n",
    "import pandas as pd\n",
    "\n",
    "path = \"C:\\\\Users\\\\Dev\\\\Desktop\\\\LogikView\\\\Fred_Reports\\\\Files\\\\March_2020\\\\Sales\"\n",
    "extension = 'csv'\n",
    "os.chdir(path)\n",
    "result = glob.glob('*.{}'.format(extension))\n",
    "print(result)"
   ]
  },
  {
   "cell_type": "code",
   "execution_count": 46,
   "metadata": {},
   "outputs": [],
   "source": [
    "dollar_col = [\"Ordered Product Sales\",\"Ordered Product Sales - B2B\",\"Average Sales per Order Item\",\"Average Sales per Order Item - B2B\",\n",
    "             \"Claims Amount\",\"Shipped Product Sales\",\"Average Selling Price\",\"Average Selling Price - B2B\"]\n",
    "percent_col = [\"Buy Box Percentage\",\"Order Item Session Percentage\",\"Order Item Session Percentage - B2B\",\n",
    " \"Unit Session Percentage\",\"Unit Session Percentage - B2B\",\n",
    "\"Refund Rate\",\"Received Negative Feedback Rate\"]"
   ]
  },
  {
   "cell_type": "code",
   "execution_count": 53,
   "metadata": {},
   "outputs": [],
   "source": [
    "for file in result:\n",
    "    data= pd.read_csv(file)\n",
    "    data['Date']= pd.to_datetime(data.Date)\n",
    "    data['Date']= data['Date'].dt.strftime('%Y/%m/%d')\n",
    "    for d in data['Date']:\n",
    "        d = \"'{}'\".format(d)\n",
    "    #remove $ sign\n",
    "    for col in dollar_col:\n",
    "        if col in data:\n",
    "            data[col]=[x[1:] for x in data[col]]\n",
    "    #rem % sign and mulitply by 0.01\n",
    "    for col in percent_col:\n",
    "        if col in data:\n",
    "            data[col]=[x[:-1] for x in data[col]]\n",
    "            data[col]= pd.to_numeric(data[col], errors='coerce')\n",
    "            data[col]=[(x*0.01) for x in data[col]]\n",
    "    data = data.round(2)\n",
    "    data.to_csv(r\"C:\\Users\\Dev\\Desktop\\LogikView\\Fred_Reports\\Files\\March_2020\\Sales\\temp\\'\"+file,index=False)"
   ]
  },
  {
   "cell_type": "code",
   "execution_count": 54,
   "metadata": {},
   "outputs": [
    {
     "name": "stdout",
     "output_type": "stream",
     "text": [
      "['Mar Cambridge Sponsered Ads Report.csv', 'Mar EndoMune Sponsered Ads Report.csv', 'Mar MB Sponsered Ads Report.csv', 'Mar TYE Medical Sponsered Ads Report.csv', 'Mar Zobmondo Sponsored Ads Report.csv']\n"
     ]
    }
   ],
   "source": [
    "#Sponsored_ads\n",
    "path = \"C:\\\\Users\\\\Dev\\\\Desktop\\\\LogikView\\\\Fred_Reports\\\\Files\\\\March_2020\\\\Spon_Ads\"\n",
    "extension = 'csv'\n",
    "os.chdir(path)\n",
    "result = glob.glob('*.{}'.format(extension))\n",
    "print(result)"
   ]
  },
  {
   "cell_type": "code",
   "execution_count": 57,
   "metadata": {},
   "outputs": [],
   "source": [
    "for file in result:\n",
    "    data= pd.read_csv(file)\n",
    "    data['Date']= pd.to_datetime(data.Date)\n",
    "    data['Date']= data['Date'].dt.strftime('%Y/%m/%d')\n",
    "    for d in data['Date']:\n",
    "        d = \"'{}'\".format(d)\n",
    "    data[\"Orders\"].fillna(0, inplace = True) \n",
    "    data[\"Impressions\"].fillna(0, inplace = True)\n",
    "    data.to_csv(r\"C:\\Users\\Dev\\Desktop\\LogikView\\Fred_Reports\\Files\\March_2020\\temp\\'\"+file,index=False)"
   ]
  },
  {
   "cell_type": "code",
   "execution_count": 69,
   "metadata": {},
   "outputs": [
    {
     "name": "stdout",
     "output_type": "stream",
     "text": [
      "['Mar Cambridge Top SKUs.csv', 'Mar Endomune Top SKUs.csv', 'Mar MB Top SKUs.csv', 'Mar TYE Medical Top SKUs.csv', 'Mar Zobmondo Top SKUs.csv']\n"
     ]
    }
   ],
   "source": [
    "#top_skus\n",
    "path = \"C:\\\\Users\\\\Dev\\\\Desktop\\\\LogikView\\\\Fred_Reports\\\\Files\\\\March_2020\\\\Top_SKU\"\n",
    "extension = 'csv'\n",
    "os.chdir(path)\n",
    "result = glob.glob('*.{}'.format(extension))\n",
    "print(result)"
   ]
  },
  {
   "cell_type": "code",
   "execution_count": 70,
   "metadata": {},
   "outputs": [
    {
     "name": "stdout",
     "output_type": "stream",
     "text": [
      "Mar Cambridge Top SKUs.csv\n",
      "Mar Endomune Top SKUs.csv\n",
      "Mar MB Top SKUs.csv\n",
      "Mar TYE Medical Top SKUs.csv\n",
      "Mar Zobmondo Top SKUs.csv\n"
     ]
    }
   ],
   "source": [
    "for file in result:\n",
    "    data= pd.read_csv(file)\n",
    "    print(file)\n",
    "    dcols= [\"Ordered Product Sales\",\"Ordered Product Sales - B2B\"]\n",
    "    for col in dcols:\n",
    "        if col in data:\n",
    "            data[col]=[x[1:] for x in data[col]]\n",
    "   \n",
    "    cols= [\"Session Percentage\",\"Page Views Percentage\",\"Buy Box Percentage\",\"Unit Session Percentage\",\n",
    "           \"Unit Session Percentage - B2B\"]\n",
    "    for col in cols:\n",
    "        if col in data:\n",
    "            data[col]=[x[:-1] for x in data[col]]\n",
    "            data[col]= pd.to_numeric(data[col], errors='coerce')\n",
    "            data[col]=[(x*0.01) for x in data[col]]\n",
    "    data = data.round(2)\n",
    "\n",
    "\n",
    "\n",
    "    data.to_csv(r\"C:\\Users\\Dev\\Desktop\\LogikView\\Fred_Reports\\Files\\March_2020\\temp\\'\"+file,index=False)"
   ]
  },
  {
   "cell_type": "code",
   "execution_count": null,
   "metadata": {},
   "outputs": [],
   "source": []
  }
 ],
 "metadata": {
  "kernelspec": {
   "display_name": "Python 3",
   "language": "python",
   "name": "python3"
  },
  "language_info": {
   "codemirror_mode": {
    "name": "ipython",
    "version": 3
   },
   "file_extension": ".py",
   "mimetype": "text/x-python",
   "name": "python",
   "nbconvert_exporter": "python",
   "pygments_lexer": "ipython3",
   "version": "3.6.5"
  }
 },
 "nbformat": 4,
 "nbformat_minor": 2
}
