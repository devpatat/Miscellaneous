{
 "cells": [
  {
   "cell_type": "code",
   "execution_count": 1,
   "metadata": {},
   "outputs": [],
   "source": [
    "import pandas as pd\n",
    "import numpy as np"
   ]
  },
  {
   "cell_type": "code",
   "execution_count": 2,
   "metadata": {},
   "outputs": [
    {
     "data": {
      "text/html": [
       "<div>\n",
       "<style scoped>\n",
       "    .dataframe tbody tr th:only-of-type {\n",
       "        vertical-align: middle;\n",
       "    }\n",
       "\n",
       "    .dataframe tbody tr th {\n",
       "        vertical-align: top;\n",
       "    }\n",
       "\n",
       "    .dataframe thead th {\n",
       "        text-align: right;\n",
       "    }\n",
       "</style>\n",
       "<table border=\"1\" class=\"dataframe\">\n",
       "  <thead>\n",
       "    <tr style=\"text-align: right;\">\n",
       "      <th></th>\n",
       "      <th>Cl</th>\n",
       "      <th>1</th>\n",
       "      <th>2</th>\n",
       "      <th>3</th>\n",
       "      <th>4</th>\n",
       "      <th>5</th>\n",
       "      <th>6</th>\n",
       "      <th>7</th>\n",
       "      <th>8</th>\n",
       "      <th>9</th>\n",
       "      <th>...</th>\n",
       "      <th>1737</th>\n",
       "      <th>1738</th>\n",
       "      <th>1739</th>\n",
       "      <th>1740</th>\n",
       "      <th>1741</th>\n",
       "      <th>1742</th>\n",
       "      <th>1743</th>\n",
       "      <th>1744</th>\n",
       "      <th>1745</th>\n",
       "      <th>1746</th>\n",
       "    </tr>\n",
       "  </thead>\n",
       "  <tbody>\n",
       "    <tr>\n",
       "      <th>0</th>\n",
       "      <td>426.164519</td>\n",
       "      <td>0.019577</td>\n",
       "      <td>0.019470</td>\n",
       "      <td>0.019452</td>\n",
       "      <td>0.019527</td>\n",
       "      <td>0.019616</td>\n",
       "      <td>0.019666</td>\n",
       "      <td>0.019601</td>\n",
       "      <td>0.019492</td>\n",
       "      <td>0.019548</td>\n",
       "      <td>...</td>\n",
       "      <td>0.105387</td>\n",
       "      <td>0.102081</td>\n",
       "      <td>0.099438</td>\n",
       "      <td>0.099209</td>\n",
       "      <td>0.099076</td>\n",
       "      <td>0.097756</td>\n",
       "      <td>0.097996</td>\n",
       "      <td>0.100103</td>\n",
       "      <td>0.101322</td>\n",
       "      <td>0.099239</td>\n",
       "    </tr>\n",
       "    <tr>\n",
       "      <th>1</th>\n",
       "      <td>1003.898635</td>\n",
       "      <td>0.021694</td>\n",
       "      <td>0.021799</td>\n",
       "      <td>0.022051</td>\n",
       "      <td>0.022201</td>\n",
       "      <td>0.022188</td>\n",
       "      <td>0.022018</td>\n",
       "      <td>0.021996</td>\n",
       "      <td>0.022162</td>\n",
       "      <td>0.022117</td>\n",
       "      <td>...</td>\n",
       "      <td>0.118739</td>\n",
       "      <td>0.115712</td>\n",
       "      <td>0.114307</td>\n",
       "      <td>0.113261</td>\n",
       "      <td>0.113702</td>\n",
       "      <td>0.116134</td>\n",
       "      <td>0.117882</td>\n",
       "      <td>0.117496</td>\n",
       "      <td>0.116149</td>\n",
       "      <td>0.115194</td>\n",
       "    </tr>\n",
       "    <tr>\n",
       "      <th>2</th>\n",
       "      <td>683.260127</td>\n",
       "      <td>0.020008</td>\n",
       "      <td>0.019946</td>\n",
       "      <td>0.019997</td>\n",
       "      <td>0.020046</td>\n",
       "      <td>0.020002</td>\n",
       "      <td>0.019916</td>\n",
       "      <td>0.019846</td>\n",
       "      <td>0.019805</td>\n",
       "      <td>0.019885</td>\n",
       "      <td>...</td>\n",
       "      <td>0.102475</td>\n",
       "      <td>0.101191</td>\n",
       "      <td>0.099991</td>\n",
       "      <td>0.100175</td>\n",
       "      <td>0.100819</td>\n",
       "      <td>0.100643</td>\n",
       "      <td>0.100813</td>\n",
       "      <td>0.101416</td>\n",
       "      <td>0.100405</td>\n",
       "      <td>0.096126</td>\n",
       "    </tr>\n",
       "    <tr>\n",
       "      <th>3</th>\n",
       "      <td>299.401198</td>\n",
       "      <td>0.020367</td>\n",
       "      <td>0.020274</td>\n",
       "      <td>0.020317</td>\n",
       "      <td>0.020518</td>\n",
       "      <td>0.020673</td>\n",
       "      <td>0.020647</td>\n",
       "      <td>0.020365</td>\n",
       "      <td>0.019905</td>\n",
       "      <td>0.019786</td>\n",
       "      <td>...</td>\n",
       "      <td>0.102348</td>\n",
       "      <td>0.102569</td>\n",
       "      <td>0.102520</td>\n",
       "      <td>0.100641</td>\n",
       "      <td>0.099706</td>\n",
       "      <td>0.102169</td>\n",
       "      <td>0.105038</td>\n",
       "      <td>0.105098</td>\n",
       "      <td>0.103568</td>\n",
       "      <td>0.102897</td>\n",
       "    </tr>\n",
       "    <tr>\n",
       "      <th>4</th>\n",
       "      <td>454.545455</td>\n",
       "      <td>0.017094</td>\n",
       "      <td>0.017047</td>\n",
       "      <td>0.017022</td>\n",
       "      <td>0.017060</td>\n",
       "      <td>0.017126</td>\n",
       "      <td>0.017203</td>\n",
       "      <td>0.017201</td>\n",
       "      <td>0.017106</td>\n",
       "      <td>0.017164</td>\n",
       "      <td>...</td>\n",
       "      <td>0.091870</td>\n",
       "      <td>0.089006</td>\n",
       "      <td>0.086887</td>\n",
       "      <td>0.086557</td>\n",
       "      <td>0.086041</td>\n",
       "      <td>0.084816</td>\n",
       "      <td>0.085314</td>\n",
       "      <td>0.087352</td>\n",
       "      <td>0.088082</td>\n",
       "      <td>0.086177</td>\n",
       "    </tr>\n",
       "  </tbody>\n",
       "</table>\n",
       "<p>5 rows × 1747 columns</p>\n",
       "</div>"
      ],
      "text/plain": [
       "            Cl         1         2         3         4         5         6  \\\n",
       "0   426.164519  0.019577  0.019470  0.019452  0.019527  0.019616  0.019666   \n",
       "1  1003.898635  0.021694  0.021799  0.022051  0.022201  0.022188  0.022018   \n",
       "2   683.260127  0.020008  0.019946  0.019997  0.020046  0.020002  0.019916   \n",
       "3   299.401198  0.020367  0.020274  0.020317  0.020518  0.020673  0.020647   \n",
       "4   454.545455  0.017094  0.017047  0.017022  0.017060  0.017126  0.017203   \n",
       "\n",
       "          7         8         9  ...      1737      1738      1739      1740  \\\n",
       "0  0.019601  0.019492  0.019548  ...  0.105387  0.102081  0.099438  0.099209   \n",
       "1  0.021996  0.022162  0.022117  ...  0.118739  0.115712  0.114307  0.113261   \n",
       "2  0.019846  0.019805  0.019885  ...  0.102475  0.101191  0.099991  0.100175   \n",
       "3  0.020365  0.019905  0.019786  ...  0.102348  0.102569  0.102520  0.100641   \n",
       "4  0.017201  0.017106  0.017164  ...  0.091870  0.089006  0.086887  0.086557   \n",
       "\n",
       "       1741      1742      1743      1744      1745      1746  \n",
       "0  0.099076  0.097756  0.097996  0.100103  0.101322  0.099239  \n",
       "1  0.113702  0.116134  0.117882  0.117496  0.116149  0.115194  \n",
       "2  0.100819  0.100643  0.100813  0.101416  0.100405  0.096126  \n",
       "3  0.099706  0.102169  0.105038  0.105098  0.103568  0.102897  \n",
       "4  0.086041  0.084816  0.085314  0.087352  0.088082  0.086177  \n",
       "\n",
       "[5 rows x 1747 columns]"
      ]
     },
     "execution_count": 2,
     "metadata": {},
     "output_type": "execute_result"
    }
   ],
   "source": [
    "data= pd.read_csv('data.csv')\n",
    "data.head()"
   ]
  },
  {
   "cell_type": "code",
   "execution_count": 3,
   "metadata": {},
   "outputs": [],
   "source": [
    "data=data.fillna(data['Cl'].mean())"
   ]
  },
  {
   "cell_type": "markdown",
   "metadata": {},
   "source": [
    "## 1.Using KBest Method"
   ]
  },
  {
   "cell_type": "code",
   "execution_count": 5,
   "metadata": {},
   "outputs": [],
   "source": [
    "from sklearn.feature_selection import SelectKBest\n",
    "from sklearn.feature_selection import f_regression"
   ]
  },
  {
   "cell_type": "code",
   "execution_count": 6,
   "metadata": {},
   "outputs": [],
   "source": [
    "X = data.iloc[:,1:1747]  #independent columns"
   ]
  },
  {
   "cell_type": "code",
   "execution_count": 7,
   "metadata": {},
   "outputs": [],
   "source": [
    "y = data.iloc[:,0]"
   ]
  },
  {
   "cell_type": "code",
   "execution_count": 8,
   "metadata": {},
   "outputs": [],
   "source": [
    "#apply SelectKBest class to extract top 10 best features\n",
    "bestfeatures = SelectKBest(score_func=f_regression, k=500)\n",
    "fit = bestfeatures.fit(X,y)\n",
    "dfscores = pd.DataFrame(fit.scores_)\n",
    "dfcolumns = pd.DataFrame(X.columns)\n",
    "#concat two dataframes for better visualization \n",
    "featureScores = pd.concat([dfcolumns,dfscores],axis=1)\n",
    "featureScores.columns = ['Specs','Score']  #naming the dataframe columns\n",
    "#print(featureScores.nlargest(100,'Score'))  #print 10 best features\n",
    "df = featureScores.nlargest(800,'Score')"
   ]
  },
  {
   "cell_type": "code",
   "execution_count": 9,
   "metadata": {},
   "outputs": [
    {
     "name": "stderr",
     "output_type": "stream",
     "text": [
      "C:\\ProgramData\\Anaconda3\\lib\\site-packages\\ipykernel_launcher.py:1: FutureWarning: The signature of `Series.to_csv` was aligned to that of `DataFrame.to_csv`, and argument 'header' will change its default value from False to True: please pass an explicit value to suppress this warning.\n",
      "  \"\"\"Entry point for launching an IPython kernel.\n"
     ]
    }
   ],
   "source": [
    "features=df['Specs'].to_csv('imp.csv')\n",
    "features"
   ]
  },
  {
   "cell_type": "code",
   "execution_count": 10,
   "metadata": {},
   "outputs": [
    {
     "data": {
      "text/plain": [
       "<Figure size 432x288 with 0 Axes>"
      ]
     },
     "metadata": {},
     "output_type": "display_data"
    },
    {
     "data": {
      "image/png": "[encoded data removed]",
      "text/plain": [
       "<Figure size 1080x2160 with 1 Axes>"
      ]
     },
     "metadata": {},
     "output_type": "display_data"
    }
   ],
   "source": [
    "import matplotlib.pyplot as plt\n",
    "plt.figure()\n",
    "df.plot(kind='barh',figsize=(15,30))\n",
    "plt.savefig('Selectkbest.png')\n",
    "plt.show()"
   ]
  },
  {
   "cell_type": "code",
   "execution_count": 11,
   "metadata": {},
   "outputs": [],
   "source": [
    "from sklearn.model_selection import train_test_split \n",
    "from sklearn.linear_model import LinearRegression\n",
    "from sklearn import metrics\n",
    "%matplotlib inline"
   ]
  },
  {
   "cell_type": "code",
   "execution_count": 33,
   "metadata": {},
   "outputs": [],
   "source": [
    "y = data.iloc[:,0]\n",
    "num=[]\n",
    "MAE=[]\n",
    "MSE=[]\n",
    "RMSE=[]\n",
    "R=[]\n",
    "for i in range (1100,0,-50):\n",
    "    df = featureScores.nlargest(i,'Score')\n",
    "    features=df['Specs'].values\n",
    "    X = data[features]\n",
    "    X_train, X_test, y_train, y_test = train_test_split( X, y, test_size=0.2, random_state=0)\n",
    "    regressor = LinearRegression()\n",
    "    regressor.fit(X_train,y_train)\n",
    "    y_pred= regressor.predict(X_test)\n",
    "    num.append(i)\n",
    "    RMSE.append(np.sqrt(metrics.mean_squared_error(y_test, y_pred)))\n",
    "    MAE.append(metrics.mean_absolute_error(y_test, y_pred))\n",
    "    MSE.append(metrics.mean_squared_error(y_test, y_pred))\n",
    "    R.append(metrics.r2_score(y_test, y_pred))"
   ]
  },
  {
   "cell_type": "code",
   "execution_count": 42,
   "metadata": {},
   "outputs": [
    {
     "data": {
      "text/plain": [
       "LinearRegression(copy_X=True, fit_intercept=True, n_jobs=None, normalize=False)"
      ]
     },
     "execution_count": 42,
     "metadata": {},
     "output_type": "execute_result"
    }
   ],
   "source": [
    "df=featureScores.nlargest(800,'Score')\n",
    "features=df['Specs'].values\n",
    "X = data[features]\n",
    "X_train, X_test, y_train, y_test = train_test_split( X, y, test_size=0.2, random_state=0)\n",
    "regressor = LinearRegression()\n",
    "regressor.fit(X_train,y_train)"
   ]
  },
  {
   "cell_type": "code",
   "execution_count": 43,
   "metadata": {},
   "outputs": [
    {
     "data": {
      "text/plain": [
       "800"
      ]
     },
     "execution_count": 43,
     "metadata": {},
     "output_type": "execute_result"
    }
   ],
   "source": [
    "len(regressor.coef_)"
   ]
  },
  {
   "cell_type": "code",
   "execution_count": 14,
   "metadata": {},
   "outputs": [],
   "source": [
    "res = pd.DataFrame()"
   ]
  },
  {
   "cell_type": "code",
   "execution_count": 15,
   "metadata": {},
   "outputs": [],
   "source": [
    "res['Ft']=num\n",
    "res['MAE']=MAE\n",
    "res['MSE']=MSE\n",
    "res['RMSE']=RMSE\n",
    "res['R^2']=R"
   ]
  },
  {
   "cell_type": "code",
   "execution_count": 16,
   "metadata": {},
   "outputs": [],
   "source": [
    "df= res.nsmallest(len(res),'RMSE')"
   ]
  },
  {
   "cell_type": "code",
   "execution_count": 17,
   "metadata": {
    "scrolled": true
   },
   "outputs": [],
   "source": [
    "df.to_csv('results.csv')"
   ]
  },
  {
   "cell_type": "code",
   "execution_count": 18,
   "metadata": {},
   "outputs": [
    {
     "data": {
      "text/html": [
       "<div>\n",
       "<style scoped>\n",
       "    .dataframe tbody tr th:only-of-type {\n",
       "        vertical-align: middle;\n",
       "    }\n",
       "\n",
       "    .dataframe tbody tr th {\n",
       "        vertical-align: top;\n",
       "    }\n",
       "\n",
       "    .dataframe thead th {\n",
       "        text-align: right;\n",
       "    }\n",
       "</style>\n",
       "<table border=\"1\" class=\"dataframe\">\n",
       "  <thead>\n",
       "    <tr style=\"text-align: right;\">\n",
       "      <th></th>\n",
       "      <th>Ft</th>\n",
       "      <th>MAE</th>\n",
       "      <th>MSE</th>\n",
       "      <th>RMSE</th>\n",
       "      <th>R^2</th>\n",
       "    </tr>\n",
       "  </thead>\n",
       "  <tbody>\n",
       "    <tr>\n",
       "      <th>6</th>\n",
       "      <td>800</td>\n",
       "      <td>693.850345</td>\n",
       "      <td>1.037929e+06</td>\n",
       "      <td>1018.787971</td>\n",
       "      <td>0.285094</td>\n",
       "    </tr>\n",
       "    <tr>\n",
       "      <th>7</th>\n",
       "      <td>750</td>\n",
       "      <td>708.592755</td>\n",
       "      <td>1.043993e+06</td>\n",
       "      <td>1021.759572</td>\n",
       "      <td>0.280917</td>\n",
       "    </tr>\n",
       "    <tr>\n",
       "      <th>5</th>\n",
       "      <td>850</td>\n",
       "      <td>712.645382</td>\n",
       "      <td>1.070516e+06</td>\n",
       "      <td>1034.657270</td>\n",
       "      <td>0.262649</td>\n",
       "    </tr>\n",
       "    <tr>\n",
       "      <th>8</th>\n",
       "      <td>700</td>\n",
       "      <td>748.364350</td>\n",
       "      <td>1.118034e+06</td>\n",
       "      <td>1057.371272</td>\n",
       "      <td>0.229919</td>\n",
       "    </tr>\n",
       "    <tr>\n",
       "      <th>4</th>\n",
       "      <td>900</td>\n",
       "      <td>700.776032</td>\n",
       "      <td>1.141232e+06</td>\n",
       "      <td>1068.284647</td>\n",
       "      <td>0.213941</td>\n",
       "    </tr>\n",
       "    <tr>\n",
       "      <th>1</th>\n",
       "      <td>1050</td>\n",
       "      <td>674.731060</td>\n",
       "      <td>1.177995e+06</td>\n",
       "      <td>1085.354635</td>\n",
       "      <td>0.188619</td>\n",
       "    </tr>\n",
       "    <tr>\n",
       "      <th>3</th>\n",
       "      <td>950</td>\n",
       "      <td>714.364955</td>\n",
       "      <td>1.178261e+06</td>\n",
       "      <td>1085.477298</td>\n",
       "      <td>0.188436</td>\n",
       "    </tr>\n",
       "    <tr>\n",
       "      <th>0</th>\n",
       "      <td>1100</td>\n",
       "      <td>647.038463</td>\n",
       "      <td>1.198618e+06</td>\n",
       "      <td>1094.813982</td>\n",
       "      <td>0.174415</td>\n",
       "    </tr>\n",
       "    <tr>\n",
       "      <th>2</th>\n",
       "      <td>1000</td>\n",
       "      <td>704.610286</td>\n",
       "      <td>1.207873e+06</td>\n",
       "      <td>1099.032758</td>\n",
       "      <td>0.168040</td>\n",
       "    </tr>\n",
       "    <tr>\n",
       "      <th>9</th>\n",
       "      <td>650</td>\n",
       "      <td>801.816797</td>\n",
       "      <td>1.266807e+06</td>\n",
       "      <td>1125.525190</td>\n",
       "      <td>0.127447</td>\n",
       "    </tr>\n",
       "    <tr>\n",
       "      <th>10</th>\n",
       "      <td>600</td>\n",
       "      <td>831.435257</td>\n",
       "      <td>1.368478e+06</td>\n",
       "      <td>1169.819695</td>\n",
       "      <td>0.057418</td>\n",
       "    </tr>\n",
       "    <tr>\n",
       "      <th>11</th>\n",
       "      <td>550</td>\n",
       "      <td>869.730067</td>\n",
       "      <td>1.495171e+06</td>\n",
       "      <td>1222.771993</td>\n",
       "      <td>-0.029846</td>\n",
       "    </tr>\n",
       "    <tr>\n",
       "      <th>12</th>\n",
       "      <td>500</td>\n",
       "      <td>920.964837</td>\n",
       "      <td>1.679845e+06</td>\n",
       "      <td>1296.088248</td>\n",
       "      <td>-0.157046</td>\n",
       "    </tr>\n",
       "    <tr>\n",
       "      <th>14</th>\n",
       "      <td>400</td>\n",
       "      <td>1006.839602</td>\n",
       "      <td>1.854274e+06</td>\n",
       "      <td>1361.717182</td>\n",
       "      <td>-0.277189</td>\n",
       "    </tr>\n",
       "    <tr>\n",
       "      <th>13</th>\n",
       "      <td>450</td>\n",
       "      <td>1040.412280</td>\n",
       "      <td>1.947600e+06</td>\n",
       "      <td>1395.564388</td>\n",
       "      <td>-0.341470</td>\n",
       "    </tr>\n",
       "    <tr>\n",
       "      <th>15</th>\n",
       "      <td>350</td>\n",
       "      <td>1070.067273</td>\n",
       "      <td>2.064973e+06</td>\n",
       "      <td>1437.001443</td>\n",
       "      <td>-0.422315</td>\n",
       "    </tr>\n",
       "    <tr>\n",
       "      <th>21</th>\n",
       "      <td>50</td>\n",
       "      <td>1206.591393</td>\n",
       "      <td>2.319035e+06</td>\n",
       "      <td>1522.837669</td>\n",
       "      <td>-0.597307</td>\n",
       "    </tr>\n",
       "    <tr>\n",
       "      <th>16</th>\n",
       "      <td>300</td>\n",
       "      <td>1400.426509</td>\n",
       "      <td>3.048876e+06</td>\n",
       "      <td>1746.103103</td>\n",
       "      <td>-1.100009</td>\n",
       "    </tr>\n",
       "    <tr>\n",
       "      <th>20</th>\n",
       "      <td>100</td>\n",
       "      <td>1350.717534</td>\n",
       "      <td>3.590942e+06</td>\n",
       "      <td>1894.978055</td>\n",
       "      <td>-1.473373</td>\n",
       "    </tr>\n",
       "    <tr>\n",
       "      <th>17</th>\n",
       "      <td>250</td>\n",
       "      <td>1794.893946</td>\n",
       "      <td>5.042931e+06</td>\n",
       "      <td>2245.647093</td>\n",
       "      <td>-2.473476</td>\n",
       "    </tr>\n",
       "    <tr>\n",
       "      <th>18</th>\n",
       "      <td>200</td>\n",
       "      <td>1819.530073</td>\n",
       "      <td>5.511461e+06</td>\n",
       "      <td>2347.650107</td>\n",
       "      <td>-2.796191</td>\n",
       "    </tr>\n",
       "    <tr>\n",
       "      <th>19</th>\n",
       "      <td>150</td>\n",
       "      <td>5801.828956</td>\n",
       "      <td>5.082384e+07</td>\n",
       "      <td>7129.083912</td>\n",
       "      <td>-34.006505</td>\n",
       "    </tr>\n",
       "  </tbody>\n",
       "</table>\n",
       "</div>"
      ],
      "text/plain": [
       "      Ft          MAE           MSE         RMSE        R^2\n",
       "6    800   693.850345  1.037929e+06  1018.787971   0.285094\n",
       "7    750   708.592755  1.043993e+06  1021.759572   0.280917\n",
       "5    850   712.645382  1.070516e+06  1034.657270   0.262649\n",
       "8    700   748.364350  1.118034e+06  1057.371272   0.229919\n",
       "4    900   700.776032  1.141232e+06  1068.284647   0.213941\n",
       "1   1050   674.731060  1.177995e+06  1085.354635   0.188619\n",
       "3    950   714.364955  1.178261e+06  1085.477298   0.188436\n",
       "0   1100   647.038463  1.198618e+06  1094.813982   0.174415\n",
       "2   1000   704.610286  1.207873e+06  1099.032758   0.168040\n",
       "9    650   801.816797  1.266807e+06  1125.525190   0.127447\n",
       "10   600   831.435257  1.368478e+06  1169.819695   0.057418\n",
       "11   550   869.730067  1.495171e+06  1222.771993  -0.029846\n",
       "12   500   920.964837  1.679845e+06  1296.088248  -0.157046\n",
       "14   400  1006.839602  1.854274e+06  1361.717182  -0.277189\n",
       "13   450  1040.412280  1.947600e+06  1395.564388  -0.341470\n",
       "15   350  1070.067273  2.064973e+06  1437.001443  -0.422315\n",
       "21    50  1206.591393  2.319035e+06  1522.837669  -0.597307\n",
       "16   300  1400.426509  3.048876e+06  1746.103103  -1.100009\n",
       "20   100  1350.717534  3.590942e+06  1894.978055  -1.473373\n",
       "17   250  1794.893946  5.042931e+06  2245.647093  -2.473476\n",
       "18   200  1819.530073  5.511461e+06  2347.650107  -2.796191\n",
       "19   150  5801.828956  5.082384e+07  7129.083912 -34.006505"
      ]
     },
     "execution_count": 18,
     "metadata": {},
     "output_type": "execute_result"
    }
   ],
   "source": [
    "df"
   ]
  },
  {
   "cell_type": "markdown",
   "metadata": {},
   "source": []
  },
  {
   "cell_type": "code",
   "execution_count": 47,
   "metadata": {},
   "outputs": [],
   "source": [
    " x_pred= regressor.predict(X_train)"
   ]
  },
  {
   "cell_type": "code",
   "execution_count": 48,
   "metadata": {},
   "outputs": [
    {
     "name": "stdout",
     "output_type": "stream",
     "text": [
      "R squared values:\n",
      "1. Testing: 0.285094\n",
      "2. Training: 1.0\n"
     ]
    }
   ],
   "source": [
    "print(\"R squared values:\")\n",
    "print(\"1. Testing: 0.285094\")\n",
    "print(\"2. Training:\", metrics.r2_score(y_train, x_pred))"
   ]
  },
  {
   "cell_type": "markdown",
   "metadata": {},
   "source": [
    "Predicting Cl value for a random set of features:"
   ]
  },
  {
   "cell_type": "code",
   "execution_count": 21,
   "metadata": {},
   "outputs": [],
   "source": [
    "predicted_val = regressor.predict(X_test.iloc[0:1])"
   ]
  },
  {
   "cell_type": "code",
   "execution_count": 22,
   "metadata": {},
   "outputs": [
    {
     "name": "stdout",
     "output_type": "stream",
     "text": [
      "Testing Value :         1171      1170     1172      1173      1169      1168     1174  \\\n",
      "54  0.044741  0.045339  0.04403  0.043375  0.045875  0.046594  0.04294   \n",
      "\n",
      "        1167      1175      1176  ...      1102      1743      1726      1101  \\\n",
      "54  0.047523  0.042421  0.041637  ...  0.032179  0.101682  0.101578  0.032044   \n",
      "\n",
      "        1738      1157      1103     1100      1150      1744  \n",
      "54  0.100694  0.052621  0.032078  0.03155  0.050845  0.099825  \n",
      "\n",
      "[1 rows x 50 columns]\n"
     ]
    }
   ],
   "source": [
    "print(\"Testing Value :\", X_test.iloc[0:1])"
   ]
  },
  {
   "cell_type": "code",
   "execution_count": 23,
   "metadata": {},
   "outputs": [
    {
     "name": "stdout",
     "output_type": "stream",
     "text": [
      "Predicted Cl value :  226.06851935977375\n"
     ]
    }
   ],
   "source": [
    "print(\"Predicted Cl value : \", predicted_val[0])"
   ]
  },
  {
   "cell_type": "markdown",
   "metadata": {},
   "source": [
    "Same, can be done for any unknown set of features"
   ]
  },
  {
   "cell_type": "code",
   "execution_count": 49,
   "metadata": {},
   "outputs": [
    {
     "name": "stdout",
     "output_type": "stream",
     "text": [
      "Regression Coefficients of the model: \n",
      " [-8.18061445e+04 -6.14184854e+04 -5.42297128e+04 -2.41908522e+03\n",
      " -1.23134643e+04  3.08550590e+04  1.77785458e+04  5.06188824e+04\n",
      "  2.42960704e+04  5.64941707e+04  6.18695879e+04  6.71892447e+04\n",
      " -1.25280365e+05  4.68885478e+04 -3.48154374e+04  1.77692258e+04\n",
      "  7.35084737e+03 -1.81861463e+02 -7.52951852e+04 -3.79350876e+04\n",
      "  3.61780326e+04 -2.54543869e+04 -2.30261336e+04  6.13532527e+04\n",
      "  6.08938309e+04  2.02709770e+04 -5.83337051e+04  7.34964598e+04\n",
      "  1.59209374e+04  6.64355224e+04  5.79443547e+04  2.63978729e+04\n",
      "  7.01469635e+04  3.66120693e+04  4.06325955e+04  2.16249022e+04\n",
      " -4.51476453e+04 -2.00813325e+04  3.19283762e+04  5.03010499e+04\n",
      "  1.94390476e+04 -8.48666097e+04  4.72258969e+04  3.24146038e+04\n",
      "  1.07587609e+05  1.91502732e+04  1.09424356e+04  3.35456643e+04\n",
      "  1.26793444e+04 -8.39033399e+02 -6.03253600e+04 -5.44330520e+04\n",
      " -3.78507030e+04  1.41117066e+03 -1.26841951e+03 -9.45632779e+03\n",
      " -4.60164077e+01  2.37877056e+04 -5.08071769e+04 -4.33668877e+03\n",
      " -2.35195692e+03  1.31624029e+03  3.82500332e+03 -8.68397656e+04\n",
      "  2.00929455e+04 -3.40269716e+04 -7.75089123e+04  6.50167860e+04\n",
      "  6.78288917e+04 -8.47988602e+04 -5.66529183e+04  3.43777524e+04\n",
      " -6.89823323e+04  3.10680439e+04 -9.88497397e+03 -5.38532773e+04\n",
      " -2.00688423e+04 -8.82091346e+03  1.37418015e+04  4.41407832e+04\n",
      "  4.36787056e+04 -6.01660775e+04  6.79693282e+04  2.36487763e+04\n",
      "  1.30999735e+03  6.68087720e+04  2.13827342e+04  9.07754320e+03\n",
      "  4.91612049e+04  2.20444656e+04  6.04599486e+04 -4.84316017e+03\n",
      "  4.35034365e+03 -3.16087968e+04 -1.38407438e+04  1.18173745e+05\n",
      "  2.03176610e+04 -8.16072457e+03  1.45846018e+04  5.70841599e+04\n",
      " -5.01597072e+04 -5.16475677e+04 -2.08238842e+04 -7.13996497e+04\n",
      "  6.33118238e+04 -4.68045533e+04 -5.17756419e+04  5.62321150e+04\n",
      "  1.13039673e+04 -3.00299112e+02  4.59047215e+04 -4.98557954e+04\n",
      "  2.29461715e+04  1.24614957e+05 -3.66412903e+04 -2.82415029e+04\n",
      "  5.14695032e+04 -4.39914372e+04  4.56492396e+03 -1.29236416e+04\n",
      " -7.76658267e+04  4.71533939e+03 -6.90367959e+04  3.42114480e+04\n",
      " -1.38346240e+04  9.77280733e+03 -4.11521222e+04  4.56416071e+04\n",
      " -8.39135651e+04  1.75802682e+04  7.87730507e+04 -7.51716058e+04\n",
      " -9.38380968e+04 -4.41972388e+04 -3.63224563e+04  5.95253981e+03\n",
      "  1.95694905e+04 -2.62927953e+04 -1.14660510e+04  1.62796338e+04\n",
      "  6.33157234e+04  1.59187087e+04  4.09415965e+04  4.46646990e+04\n",
      "  1.09928270e+05  4.95091324e+03  4.68638096e+04  3.31193113e+04\n",
      "  6.89839996e+04  6.41218935e+04  4.85371661e+04 -1.82505896e+04\n",
      " -3.51088445e+04 -5.75600640e+04  4.77938951e+04 -3.47412393e+04\n",
      " -1.42073105e+04 -1.65301925e+04  4.84802695e+04  3.49272917e+04\n",
      "  5.97127221e+04  3.61052434e+04  7.52420974e+04 -7.47383414e+04\n",
      "  3.97219814e+03 -1.52228878e+04  2.80782336e+04 -1.69965492e+04\n",
      " -1.60957246e+04  1.40647151e+04 -1.42615921e+05  1.49201630e+04\n",
      "  7.17484254e+04  4.28254091e+04  2.85466189e+04 -1.34914743e+05\n",
      "  5.00080806e+04 -7.94513911e+04 -1.02838130e+05 -9.70611538e+04\n",
      " -4.51220897e+04 -6.82684931e+04 -2.51807276e+04  7.05464696e+04\n",
      "  4.00209537e+03  3.42536384e+04  5.21455624e+02 -1.41235955e+04\n",
      " -6.10079242e+04 -2.41502408e+04 -6.63513399e+04 -9.97019719e+04\n",
      "  2.28649390e+03 -1.59393513e+04  6.74625898e+04 -4.46057223e+04\n",
      "  1.99711004e+04 -5.50036451e+04 -7.17234596e+04  2.69782512e+04\n",
      " -2.29884821e+04 -8.11315591e+03 -7.19153096e+04  3.31420057e+04\n",
      " -8.20537364e+04 -1.52552703e+04  1.27293120e+04  9.70859010e+03\n",
      "  3.69101818e+04 -2.68943614e+04 -5.13277993e+04 -1.53151981e+04\n",
      "  1.12699871e+04  7.31339901e+04  1.41933420e+04  2.73011946e+04\n",
      " -1.06207356e+05  1.54578429e+05  6.53911969e+04 -5.58974202e+04\n",
      " -6.78175016e+04  1.13377211e+05 -1.25531773e+04  3.45382131e+04\n",
      "  3.06933006e+04 -2.03424924e+03  2.99220396e+04 -9.61024293e+04\n",
      " -2.45712857e+04  9.14682287e+02  1.52726981e+05  8.32124503e+04\n",
      " -4.23660816e+04  4.64476634e+04 -1.92333898e+04  4.85890137e+03\n",
      " -3.95284280e+04  7.18186424e+04  4.14519014e+04 -1.56429061e+04\n",
      " -7.65368772e+04 -1.16707843e+05  2.89376122e+04 -8.28505586e+04\n",
      " -9.10330893e+04 -4.80960514e+04  1.47652025e+04 -4.46329521e+04\n",
      "  9.01370908e+04  4.60868905e+04 -3.63933658e+04  2.51643839e+04\n",
      "  4.03642857e+04 -5.98027701e+04  1.82822681e+04 -5.32648650e+04\n",
      "  2.03899847e+04  9.78068662e+04  3.17231216e+04 -1.72785909e+04\n",
      " -4.51508345e+04  6.09229253e+04 -2.51998565e+04 -7.83340909e+03\n",
      "  5.02466439e+04 -2.72645369e+04  1.06813666e+04  1.76424639e+04\n",
      "  1.05303679e+05  6.03975703e+04  2.83362544e+04  9.02313101e+04\n",
      "  4.03895674e+03  1.95422871e+04  4.00744735e+04  1.13490900e+05\n",
      "  1.05995811e+04 -8.32137737e+03 -5.04370244e+04 -9.31894442e+03\n",
      " -1.32405022e+04  1.05504722e+05 -1.40383140e+05 -3.43497731e+03\n",
      "  7.97277959e+04  3.95320098e+04 -2.13244502e+04 -4.51224896e+04\n",
      "  1.06921763e+04 -1.21078258e+05  8.09788488e+04  8.04944532e+04\n",
      "  5.70689036e+04 -2.94231867e+04 -4.49413245e+04 -1.06282361e+05\n",
      " -7.41688027e+04  3.33959148e+04 -1.02839205e+05 -1.11463264e+05\n",
      "  3.26903872e+04 -1.39545218e+05 -7.38436214e+04 -1.25422241e+05\n",
      " -5.43028026e+04 -2.19365691e+04 -4.63492209e+03 -1.14363285e+05\n",
      "  1.01476103e+05 -7.22915087e+03 -1.86710907e+04  5.60020941e+04\n",
      " -1.08801410e+05 -8.29266848e+04 -1.06070622e+03  1.34528117e+05\n",
      "  5.15455960e+03 -6.81101585e+04  7.89997194e+04  5.02289861e+04\n",
      " -5.33578224e+04  6.44654731e+04 -6.02449450e+04 -8.20010391e+04\n",
      " -7.78526351e+04 -9.94005559e+04  2.59324668e+04 -6.00673792e+04\n",
      "  9.01637698e+04 -1.25556022e+03 -1.33759575e+04 -8.10956156e+02\n",
      " -1.03106513e+05 -5.01847046e+04 -3.27519624e+04 -1.19986140e+05\n",
      "  1.31867826e+04 -6.92658532e+04 -1.48129563e+04  2.21970603e+04\n",
      " -6.24847508e+03  1.40614874e+05  2.65551725e+04 -2.00112727e+04\n",
      " -2.21776811e+04  1.30160145e+05 -1.68862726e+05 -1.25308661e+05\n",
      " -1.42970849e+04  4.97364275e+03  2.81003719e+04 -3.53621930e+04\n",
      " -3.95336829e+04 -4.46243750e+04 -3.02181187e+04 -3.46407197e+04\n",
      " -7.90641799e+04 -2.39919576e+04 -2.45104479e+04  9.14499450e+04\n",
      "  7.70671441e+04 -9.21422996e+04 -8.01168590e+04 -7.24861288e+04\n",
      "  4.16271991e+04  2.56532298e+02  2.39001807e+03  5.46219391e+04\n",
      "  1.07472624e+05 -7.91013456e+04  6.06372305e+04 -7.61930562e+03\n",
      "  7.78723465e+04 -4.16411072e+04 -5.66614026e+04  5.62076787e+04\n",
      " -1.76414231e+04 -9.43134883e+04 -5.84236868e+04  1.15211329e+05\n",
      " -6.79095735e+04  2.68506682e+02 -7.96277920e+04 -2.16122087e+04\n",
      " -3.53559436e+03  5.85583205e+04 -5.86215920e+04 -6.82758995e+03\n",
      " -1.22885118e+05 -1.34595921e+05 -6.90623128e+04 -7.47704352e+04\n",
      " -6.69539028e+04  2.57333686e+04 -5.15333677e+04 -4.27576458e+04\n",
      " -3.45058122e+04  4.48700582e+04  8.27407853e+04 -1.05724898e+05\n",
      " -6.29209032e+03  8.86475745e+04  4.59660781e+03 -9.07918607e+04\n",
      " -4.13256640e+04 -3.14644531e+03  2.49757417e+04 -1.13424927e+04\n",
      " -3.56817192e+04 -1.43633054e+05  5.03645885e+04  3.05531170e+04\n",
      " -6.65506942e+04 -2.83555161e+04 -8.76717549e+03  1.41601814e+03\n",
      " -4.88018017e+04 -5.79902349e+04  1.83484502e+04 -3.53884157e+03\n",
      "  9.80283938e+03  3.45580915e+04  1.40105589e+05 -7.03915291e+04\n",
      "  5.06246363e+04 -2.16593176e+04  9.21294772e+04  4.05906690e+02\n",
      " -3.64958780e+04  2.49130435e+04 -5.02356569e+04  5.09499811e+04\n",
      "  1.32216918e+05 -4.48788722e+04 -3.11298686e+03  1.19926520e+05\n",
      " -7.16390060e+04 -9.55648007e+03 -4.89738763e+04 -7.20436000e+04\n",
      "  5.16406390e+04 -7.23105595e+04 -5.13964518e+03  5.45333955e+04\n",
      " -6.21868012e+04  1.44584869e+04  2.58763930e+04  5.40064037e+04\n",
      "  9.55923530e+04  6.75319842e+04 -4.14414673e+03  1.30424591e+05\n",
      "  9.14280621e+04 -1.44379231e+04 -1.22175446e+04  3.68393817e+04\n",
      "  3.83663105e+04 -3.36060390e+04 -2.60018757e+04 -7.24887322e+04\n",
      "  3.20505656e+04 -9.38858167e+04 -1.89688007e+04  1.08283763e+05\n",
      " -6.12537507e+04  1.67260336e+05 -3.67166033e+04 -3.92359702e+04\n",
      " -9.13246903e+04 -6.93594522e+04 -4.61925508e+04 -5.17231271e+04\n",
      " -4.52960245e+04  8.08983926e+04 -3.28933580e+03 -1.37958362e+04\n",
      "  3.91866951e+04 -6.19103660e+04 -3.20696694e+04 -3.99496246e+04\n",
      " -3.60743976e+04 -1.83866320e+04  3.57248352e+04  2.52721631e+04\n",
      " -4.71493372e+04 -3.21970777e+04 -5.86015304e+04  2.86590794e+04\n",
      "  8.68128334e+04 -1.05460453e+05  2.04471522e+05  1.02503317e+03\n",
      "  1.11345002e+05  1.18642327e+05 -4.44769699e+04 -8.67370288e+03\n",
      " -3.54250211e+04 -3.08823583e+04 -1.56784133e+04  1.10878153e+03\n",
      "  2.46936815e+04  1.72475473e+04 -6.34375359e+04  5.45606292e+04\n",
      " -1.66217000e+03 -9.63615626e+03  1.38157862e+04 -6.48480886e+04\n",
      "  3.04146489e+04 -1.31011143e+03  3.44210046e+04  2.15578432e+04\n",
      " -5.00505416e+04  3.65596552e+04 -3.75796942e+04  9.22539301e+04\n",
      "  8.78703215e+04 -7.50296494e+04 -3.32878484e+04 -8.67896617e+04\n",
      " -6.77407498e+04  9.27352322e+04 -6.26124713e+03  1.13488334e+05\n",
      " -2.62641808e+04  2.44569543e+04  9.83969379e+04  5.69578229e+03\n",
      " -5.52548881e+04 -8.16536909e+01  9.79904854e+03  3.16339909e+04\n",
      " -1.00848194e+05 -2.11601461e+04 -2.03613401e+04 -3.39601317e+04\n",
      " -4.61330923e+04 -2.26976271e+04 -5.61816499e+04 -3.76403943e+04\n",
      "  5.10582682e+04  2.02691146e+04  3.84538606e+04 -9.42175532e+04\n",
      " -2.53341997e+03  6.54109142e+03 -3.40510681e+04 -1.20918018e+04\n",
      " -5.86799162e+03 -4.47949611e+04 -1.08602559e+04 -3.68378816e+04\n",
      " -1.77549698e+04 -5.21493514e+03  8.41138955e+04  5.66588909e+04\n",
      "  6.61451474e+03 -4.83818336e+01 -1.00272923e+05  1.01169060e+04\n",
      "  1.00115136e+05 -3.18757661e+04  4.47829530e+04  6.20435105e+04\n",
      " -4.34630986e+04 -2.42155406e+04 -3.72277669e+04  1.15769262e+04\n",
      " -4.83130294e+04  3.13804007e+04  1.44003507e+03 -2.51903150e+04\n",
      " -1.38909741e+04 -2.74833533e+04 -1.92699518e+04 -1.03473945e+05\n",
      "  4.69873377e+04  5.30181176e+04  5.62700844e+04 -3.47817420e+04\n",
      " -5.36875379e+04 -6.24258209e+04  6.62450500e+04 -2.11195504e+03\n",
      "  1.86806517e+04  3.75234517e+04 -2.33506549e+04 -2.98550094e+04\n",
      " -8.44465395e+04 -2.95081928e+04  7.73507105e+04  3.66072433e+04\n",
      " -1.92571934e+03  6.26928768e+03  1.10350999e+04 -2.16172080e+04\n",
      " -1.27921498e+04 -8.96695001e+03 -2.20430778e+04  4.17915086e+03\n",
      " -4.13815172e+02  8.47581819e+04 -3.63100606e+04 -1.31542635e+04\n",
      "  5.06003429e+04 -4.91585088e+04 -3.57254934e+04  1.57892440e+04\n",
      "  8.07416961e+04 -9.22558944e+03  2.70031156e+04  1.00109211e+04\n",
      "  5.01020584e+04 -9.64464080e-01  6.90767962e+04 -1.66467617e+04\n",
      "  2.41385913e+04  1.79201109e+04  8.71382268e+04  1.32088550e+05\n",
      "  1.51711259e+04 -7.88014062e+03  1.76431253e+04  7.01117072e+04\n",
      " -2.15667897e+04  3.05836048e+04 -9.34175644e+03 -3.19380336e+04\n",
      " -2.75410871e+04 -5.13533208e+04  1.51731907e+04  4.31605488e+03\n",
      "  6.06469447e+04  2.97895471e+04  3.11669468e+04  3.12252784e+04\n",
      "  1.01907026e+03 -6.30282477e+03  3.34135505e+04  9.09749865e+03\n",
      "  5.83395431e+04  5.56093513e+04 -9.81165722e+03  9.15396773e+04\n",
      "  4.99939295e+04 -4.43089705e+04  3.72287377e+03  1.17412138e+04\n",
      " -1.40431828e+04 -1.46933414e+04  5.23053954e+04  8.84120600e+03\n",
      "  5.33237275e+04 -1.51563708e+04  6.83344412e+03  3.31391830e+04\n",
      "  5.43671267e+04 -4.33812821e+04 -2.16424029e+04 -2.76877920e+04\n",
      " -2.82121798e+04  1.09202522e+04  8.00927586e+04  5.01366424e+04\n",
      " -3.78851094e+04  5.13730658e+04  9.08401639e+04  1.69051908e+03\n",
      " -3.47469359e+03  5.55392200e+04  3.11718002e+04  6.41745555e+04\n",
      "  1.22332865e+04 -1.58507999e+04  2.59365465e+04 -3.54655223e+04\n",
      " -2.67442357e+03 -2.85469740e+04 -1.32808749e+04  3.65960260e+04\n",
      " -5.55270021e+04 -7.79336599e+03  9.40192591e+03 -3.30050420e+04\n",
      "  3.06702372e+04 -1.18091819e+04 -1.31841428e+04  4.16878504e+04\n",
      " -2.45322150e+04  2.61578281e+04  9.91993559e+04 -7.76613199e+03\n",
      " -4.87901972e+04  1.81936218e+04  1.19463109e+05 -1.04506207e+04\n",
      "  3.52777329e+04 -8.05362424e+04  9.24645177e+04  5.89804611e+03\n",
      "  5.54521092e+04  9.05666806e+04 -5.25601719e+04  2.78073150e+04\n",
      "  2.95825458e+04  2.08238040e+04  4.67667264e+04 -7.30357012e+03\n",
      " -6.47409891e+03  7.94246831e+04  8.94294753e+04 -4.15558659e+04\n",
      " -1.94038001e+04  5.52307385e+03 -4.83802730e+03 -5.92811100e+04\n",
      "  2.82725771e+04  4.64560904e+04 -1.58377972e+04  2.41827848e+04\n",
      "  3.11650121e+04  7.10437909e+03 -8.18125996e+04 -1.09736990e+04\n",
      " -2.40818366e+04  1.48516214e+04 -1.90328724e+04 -4.74090749e+03\n",
      "  8.18805164e+04  4.93896052e+04  8.30953011e+04  3.21324817e+04\n",
      " -4.51835570e+04  9.89134331e+04 -4.02620851e+04  3.37698605e+03\n",
      " -2.70054483e+04  3.87912689e+04 -6.22476684e+04  3.08826383e+04\n",
      "  5.23291707e+04  2.16149644e+04  4.39600029e+04 -6.27423571e+04\n",
      "  9.09820109e+03 -4.90427156e+04  1.29069438e+05 -6.11582510e+04\n",
      "  2.58152933e+03 -7.31170916e+04  7.56130379e+04  9.65088187e+04\n",
      "  1.52875457e+04  1.24652491e+04 -4.14344005e+04  5.52397693e+00\n",
      "  4.00434112e+04 -1.28636044e+04  1.12892574e+04 -1.20436779e+04\n",
      " -3.35617587e+04  8.46463776e+03 -3.63225516e+04 -4.14045168e+04\n",
      "  1.55555078e+02  3.35624024e+04  3.09663960e+04 -4.16409288e+04\n",
      "  2.08977143e+04  1.59849290e+04 -1.89473992e+04  6.80861621e+04\n",
      " -3.88871702e+04 -1.69096415e+04 -3.81789611e+04 -4.86785195e+04\n",
      "  3.18104448e+04 -3.09709429e+04  2.44599778e+04 -1.74188934e+04\n",
      " -2.94902192e+04 -1.42852635e+04 -5.02303052e+04  1.34610002e+04\n",
      "  2.95959204e+04  1.23632709e+05 -1.33857615e+04  1.44642027e+04\n",
      " -5.56800024e+04 -8.54441356e+04 -6.84657669e+04 -6.33617454e+03\n",
      " -8.83883711e+03  9.01238687e+03 -7.72302071e+04 -8.63665454e+03\n",
      " -7.04282008e+04 -4.29261872e+04  2.46607781e+04  3.77481119e+04]\n"
     ]
    }
   ],
   "source": [
    "print('Regression Coefficients of the model: \\n', regressor.coef_)"
   ]
  },
  {
   "cell_type": "code",
   "execution_count": 28,
   "metadata": {},
   "outputs": [],
   "source": [
    "df_coef = pd.DataFrame()"
   ]
  },
  {
   "cell_type": "code",
   "execution_count": 29,
   "metadata": {},
   "outputs": [],
   "source": [
    "df_coef['coef']=regressor.coef_"
   ]
  },
  {
   "cell_type": "code",
   "execution_count": 44,
   "metadata": {},
   "outputs": [],
   "source": [
    "coeff_df = pd.DataFrame(regressor.coef_, X.columns, columns=['Coefficient'])"
   ]
  },
  {
   "cell_type": "code",
   "execution_count": 45,
   "metadata": {},
   "outputs": [
    {
     "data": {
      "text/plain": [
       "800"
      ]
     },
     "execution_count": 45,
     "metadata": {},
     "output_type": "execute_result"
    }
   ],
   "source": [
    "len(coeff_df)"
   ]
  },
  {
   "cell_type": "code",
   "execution_count": 46,
   "metadata": {},
   "outputs": [],
   "source": [
    "coeff_df.to_csv(\"Coefficients.csv\")"
   ]
  }
 ],
 "metadata": {
  "kernelspec": {
   "display_name": "Python 3",
   "language": "python",
   "name": "python3"
  },
  "language_info": {
   "codemirror_mode": {
    "name": "ipython",
    "version": 3
   },
   "file_extension": ".py",
   "mimetype": "text/x-python",
   "name": "python",
   "nbconvert_exporter": "python",
   "pygments_lexer": "ipython3",
   "version": "3.6.5"
  }
 },
 "nbformat": 4,
 "nbformat_minor": 2
}
