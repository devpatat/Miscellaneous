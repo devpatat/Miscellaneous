{
 "cells": [
  {
   "cell_type": "markdown",
   "metadata": {},
   "source": [
    "# outage_detection \n",
    "## problem statement - we have to help the company predict outage duration ."
   ]
  },
  {
   "cell_type": "markdown",
   "metadata": {},
   "source": [
    "# Importing our necessary libraries "
   ]
  },
  {
   "cell_type": "code",
   "execution_count": 1,
   "metadata": {},
   "outputs": [],
   "source": [
    "import pandas as pd\n",
    "import numpy as np\n",
    "import os\n",
    "\n",
    "\n",
    "# Visualization libraries.\n",
    "import matplotlib as plt\n",
    "import matplotlib.pyplot as plt\n",
    "import seaborn as sns"
   ]
  },
  {
   "cell_type": "markdown",
   "metadata": {},
   "source": [
    "# Lets begin with Exploratory Data Analysis"
   ]
  },
  {
   "cell_type": "code",
   "execution_count": 4,
   "metadata": {},
   "outputs": [],
   "source": [
    "df1 = pd.read_csv('broadband_data.csv')"
   ]
  },
  {
   "cell_type": "code",
   "execution_count": 5,
   "metadata": {},
   "outputs": [],
   "source": [
    "df2 = pd.read_csv('report_data.csv')"
   ]
  },
  {
   "cell_type": "code",
   "execution_count": 6,
   "metadata": {},
   "outputs": [],
   "source": [
    "df3 = pd.read_csv('server_data.csv')"
   ]
  },
  {
   "cell_type": "code",
   "execution_count": 7,
   "metadata": {},
   "outputs": [],
   "source": [
    "df4 = pd.read_csv('outage_data.csv')"
   ]
  },
  {
   "cell_type": "code",
   "execution_count": 8,
   "metadata": {},
   "outputs": [],
   "source": [
    "df5 = pd.read_csv('train_data.csv')"
   ]
  },
  {
   "cell_type": "code",
   "execution_count": 9,
   "metadata": {},
   "outputs": [
    {
     "data": {
      "text/html": [
       "<div>\n",
       "<style scoped>\n",
       "    .dataframe tbody tr th:only-of-type {\n",
       "        vertical-align: middle;\n",
       "    }\n",
       "\n",
       "    .dataframe tbody tr th {\n",
       "        vertical-align: top;\n",
       "    }\n",
       "\n",
       "    .dataframe thead th {\n",
       "        text-align: right;\n",
       "    }\n",
       "</style>\n",
       "<table border=\"1\" class=\"dataframe\">\n",
       "  <thead>\n",
       "    <tr style=\"text-align: right;\">\n",
       "      <th></th>\n",
       "      <th>id</th>\n",
       "      <th>area_code</th>\n",
       "    </tr>\n",
       "  </thead>\n",
       "  <tbody>\n",
       "    <tr>\n",
       "      <th>0</th>\n",
       "      <td>3340</td>\n",
       "      <td>area_344</td>\n",
       "    </tr>\n",
       "    <tr>\n",
       "      <th>1</th>\n",
       "      <td>14067</td>\n",
       "      <td>area_933</td>\n",
       "    </tr>\n",
       "    <tr>\n",
       "      <th>2</th>\n",
       "      <td>1134</td>\n",
       "      <td>area_16</td>\n",
       "    </tr>\n",
       "    <tr>\n",
       "      <th>3</th>\n",
       "      <td>27</td>\n",
       "      <td>area_793</td>\n",
       "    </tr>\n",
       "    <tr>\n",
       "      <th>4</th>\n",
       "      <td>9793</td>\n",
       "      <td>area_344</td>\n",
       "    </tr>\n",
       "  </tbody>\n",
       "</table>\n",
       "</div>"
      ],
      "text/plain": [
       "      id area_code\n",
       "0   3340  area_344\n",
       "1  14067  area_933\n",
       "2   1134   area_16\n",
       "3     27  area_793\n",
       "4   9793  area_344"
      ]
     },
     "execution_count": 9,
     "metadata": {},
     "output_type": "execute_result"
    }
   ],
   "source": [
    "test = pd.read_csv('test_data.csv')\n",
    "test.head()"
   ]
  },
  {
   "cell_type": "code",
   "execution_count": 10,
   "metadata": {},
   "outputs": [
    {
     "data": {
      "text/plain": [
       "0     3340\n",
       "1    14067\n",
       "2     1134\n",
       "3       27\n",
       "4     9793\n",
       "Name: id, dtype: int64"
      ]
     },
     "execution_count": 10,
     "metadata": {},
     "output_type": "execute_result"
    }
   ],
   "source": [
    "test1 = test[\"id\"]\n",
    "test1.head()"
   ]
  },
  {
   "cell_type": "code",
   "execution_count": null,
   "metadata": {},
   "outputs": [],
   "source": []
  },
  {
   "cell_type": "code",
   "execution_count": null,
   "metadata": {},
   "outputs": [],
   "source": []
  },
  {
   "cell_type": "markdown",
   "metadata": {},
   "source": [
    "## Merging the Dataframes "
   ]
  },
  {
   "cell_type": "code",
   "execution_count": 11,
   "metadata": {},
   "outputs": [],
   "source": [
    "df6 =pd.merge(df2,df1,on = \"id\", how ='left')"
   ]
  },
  {
   "cell_type": "code",
   "execution_count": 12,
   "metadata": {},
   "outputs": [],
   "source": [
    "df7 = pd.merge(df3,df4,on=\"id\",how = 'left')"
   ]
  },
  {
   "cell_type": "code",
   "execution_count": 13,
   "metadata": {},
   "outputs": [],
   "source": [
    "df8 = pd.merge(df6,df7,on =\"id\", how = 'left')"
   ]
  },
  {
   "cell_type": "code",
   "execution_count": 14,
   "metadata": {},
   "outputs": [
    {
     "data": {
      "text/plain": [
       "(48973, 8)"
      ]
     },
     "execution_count": 14,
     "metadata": {},
     "output_type": "execute_result"
    }
   ],
   "source": [
    "data = pd.merge(df8,df5,on = \"id\")\n",
    "data.shape"
   ]
  },
  {
   "cell_type": "code",
   "execution_count": 15,
   "metadata": {},
   "outputs": [
    {
     "data": {
      "text/plain": [
       "(1477, 2)"
      ]
     },
     "execution_count": 15,
     "metadata": {},
     "output_type": "execute_result"
    }
   ],
   "source": [
    "test.shape"
   ]
  },
  {
   "cell_type": "code",
   "execution_count": 16,
   "metadata": {
    "scrolled": true
   },
   "outputs": [
    {
     "data": {
      "text/plain": [
       "(237264, 9)"
      ]
     },
     "execution_count": 16,
     "metadata": {},
     "output_type": "execute_result"
    }
   ],
   "source": [
    "test_data = pd.merge(data,test, on = \"area_code\", how = 'right')\n",
    "test_data.shape"
   ]
  },
  {
   "cell_type": "code",
   "execution_count": 17,
   "metadata": {},
   "outputs": [
    {
     "data": {
      "text/html": [
       "<div>\n",
       "<style scoped>\n",
       "    .dataframe tbody tr th:only-of-type {\n",
       "        vertical-align: middle;\n",
       "    }\n",
       "\n",
       "    .dataframe tbody tr th {\n",
       "        vertical-align: top;\n",
       "    }\n",
       "\n",
       "    .dataframe thead th {\n",
       "        text-align: right;\n",
       "    }\n",
       "</style>\n",
       "<table border=\"1\" class=\"dataframe\">\n",
       "  <thead>\n",
       "    <tr style=\"text-align: right;\">\n",
       "      <th></th>\n",
       "      <th>id_x</th>\n",
       "      <th>log_report_type</th>\n",
       "      <th>volume</th>\n",
       "      <th>broadband_type</th>\n",
       "      <th>transit_server_type</th>\n",
       "      <th>outage_type</th>\n",
       "      <th>area_code</th>\n",
       "      <th>outage_duration</th>\n",
       "      <th>id_y</th>\n",
       "    </tr>\n",
       "  </thead>\n",
       "  <tbody>\n",
       "    <tr>\n",
       "      <th>0</th>\n",
       "      <td>8011.0</td>\n",
       "      <td>log_report_type_68</td>\n",
       "      <td>7.0</td>\n",
       "      <td>broadband_type_8</td>\n",
       "      <td>transit_server_type_15</td>\n",
       "      <td>outage_type_2</td>\n",
       "      <td>area_1</td>\n",
       "      <td>0.0</td>\n",
       "      <td>8148</td>\n",
       "    </tr>\n",
       "    <tr>\n",
       "      <th>1</th>\n",
       "      <td>2588.0</td>\n",
       "      <td>log_report_type_82</td>\n",
       "      <td>9.0</td>\n",
       "      <td>broadband_type_8</td>\n",
       "      <td>transit_server_type_15</td>\n",
       "      <td>outage_type_1</td>\n",
       "      <td>area_1</td>\n",
       "      <td>0.0</td>\n",
       "      <td>8148</td>\n",
       "    </tr>\n",
       "    <tr>\n",
       "      <th>2</th>\n",
       "      <td>2588.0</td>\n",
       "      <td>log_report_type_82</td>\n",
       "      <td>9.0</td>\n",
       "      <td>broadband_type_8</td>\n",
       "      <td>transit_server_type_11</td>\n",
       "      <td>outage_type_1</td>\n",
       "      <td>area_1</td>\n",
       "      <td>0.0</td>\n",
       "      <td>8148</td>\n",
       "    </tr>\n",
       "    <tr>\n",
       "      <th>3</th>\n",
       "      <td>2588.0</td>\n",
       "      <td>log_report_type_201</td>\n",
       "      <td>5.0</td>\n",
       "      <td>broadband_type_8</td>\n",
       "      <td>transit_server_type_15</td>\n",
       "      <td>outage_type_1</td>\n",
       "      <td>area_1</td>\n",
       "      <td>0.0</td>\n",
       "      <td>8148</td>\n",
       "    </tr>\n",
       "    <tr>\n",
       "      <th>4</th>\n",
       "      <td>2588.0</td>\n",
       "      <td>log_report_type_201</td>\n",
       "      <td>5.0</td>\n",
       "      <td>broadband_type_8</td>\n",
       "      <td>transit_server_type_11</td>\n",
       "      <td>outage_type_1</td>\n",
       "      <td>area_1</td>\n",
       "      <td>0.0</td>\n",
       "      <td>8148</td>\n",
       "    </tr>\n",
       "    <tr>\n",
       "      <th>5</th>\n",
       "      <td>2588.0</td>\n",
       "      <td>log_report_type_80</td>\n",
       "      <td>15.0</td>\n",
       "      <td>broadband_type_8</td>\n",
       "      <td>transit_server_type_15</td>\n",
       "      <td>outage_type_1</td>\n",
       "      <td>area_1</td>\n",
       "      <td>0.0</td>\n",
       "      <td>8148</td>\n",
       "    </tr>\n",
       "    <tr>\n",
       "      <th>6</th>\n",
       "      <td>2588.0</td>\n",
       "      <td>log_report_type_80</td>\n",
       "      <td>15.0</td>\n",
       "      <td>broadband_type_8</td>\n",
       "      <td>transit_server_type_11</td>\n",
       "      <td>outage_type_1</td>\n",
       "      <td>area_1</td>\n",
       "      <td>0.0</td>\n",
       "      <td>8148</td>\n",
       "    </tr>\n",
       "    <tr>\n",
       "      <th>7</th>\n",
       "      <td>2588.0</td>\n",
       "      <td>log_report_type_203</td>\n",
       "      <td>5.0</td>\n",
       "      <td>broadband_type_8</td>\n",
       "      <td>transit_server_type_15</td>\n",
       "      <td>outage_type_1</td>\n",
       "      <td>area_1</td>\n",
       "      <td>0.0</td>\n",
       "      <td>8148</td>\n",
       "    </tr>\n",
       "    <tr>\n",
       "      <th>8</th>\n",
       "      <td>2588.0</td>\n",
       "      <td>log_report_type_203</td>\n",
       "      <td>5.0</td>\n",
       "      <td>broadband_type_8</td>\n",
       "      <td>transit_server_type_11</td>\n",
       "      <td>outage_type_1</td>\n",
       "      <td>area_1</td>\n",
       "      <td>0.0</td>\n",
       "      <td>8148</td>\n",
       "    </tr>\n",
       "    <tr>\n",
       "      <th>9</th>\n",
       "      <td>4848.0</td>\n",
       "      <td>log_report_type_56</td>\n",
       "      <td>3.0</td>\n",
       "      <td>broadband_type_8</td>\n",
       "      <td>transit_server_type_11</td>\n",
       "      <td>outage_type_1</td>\n",
       "      <td>area_1</td>\n",
       "      <td>0.0</td>\n",
       "      <td>8148</td>\n",
       "    </tr>\n",
       "  </tbody>\n",
       "</table>\n",
       "</div>"
      ],
      "text/plain": [
       "     id_x      log_report_type  volume    broadband_type  \\\n",
       "0  8011.0   log_report_type_68     7.0  broadband_type_8   \n",
       "1  2588.0   log_report_type_82     9.0  broadband_type_8   \n",
       "2  2588.0   log_report_type_82     9.0  broadband_type_8   \n",
       "3  2588.0  log_report_type_201     5.0  broadband_type_8   \n",
       "4  2588.0  log_report_type_201     5.0  broadband_type_8   \n",
       "5  2588.0   log_report_type_80    15.0  broadband_type_8   \n",
       "6  2588.0   log_report_type_80    15.0  broadband_type_8   \n",
       "7  2588.0  log_report_type_203     5.0  broadband_type_8   \n",
       "8  2588.0  log_report_type_203     5.0  broadband_type_8   \n",
       "9  4848.0   log_report_type_56     3.0  broadband_type_8   \n",
       "\n",
       "      transit_server_type    outage_type area_code  outage_duration  id_y  \n",
       "0  transit_server_type_15  outage_type_2    area_1              0.0  8148  \n",
       "1  transit_server_type_15  outage_type_1    area_1              0.0  8148  \n",
       "2  transit_server_type_11  outage_type_1    area_1              0.0  8148  \n",
       "3  transit_server_type_15  outage_type_1    area_1              0.0  8148  \n",
       "4  transit_server_type_11  outage_type_1    area_1              0.0  8148  \n",
       "5  transit_server_type_15  outage_type_1    area_1              0.0  8148  \n",
       "6  transit_server_type_11  outage_type_1    area_1              0.0  8148  \n",
       "7  transit_server_type_15  outage_type_1    area_1              0.0  8148  \n",
       "8  transit_server_type_11  outage_type_1    area_1              0.0  8148  \n",
       "9  transit_server_type_11  outage_type_1    area_1              0.0  8148  "
      ]
     },
     "execution_count": 17,
     "metadata": {},
     "output_type": "execute_result"
    }
   ],
   "source": [
    "test_data.head(10)"
   ]
  },
  {
   "cell_type": "code",
   "execution_count": 21,
   "metadata": {},
   "outputs": [
    {
     "data": {
      "text/plain": [
       "1477"
      ]
     },
     "execution_count": 21,
     "metadata": {},
     "output_type": "execute_result"
    }
   ],
   "source": [
    "test_data['id_y'].nunique()\n"
   ]
  },
  {
   "cell_type": "code",
   "execution_count": 22,
   "metadata": {},
   "outputs": [
    {
     "data": {
      "text/plain": [
       "id                     0\n",
       "log_report_type        0\n",
       "volume                 0\n",
       "broadband_type         0\n",
       "transit_server_type    0\n",
       "outage_type            0\n",
       "area_code              0\n",
       "outage_duration        0\n",
       "dtype: int64"
      ]
     },
     "execution_count": 22,
     "metadata": {},
     "output_type": "execute_result"
    }
   ],
   "source": [
    "data.isna().sum()"
   ]
  },
  {
   "cell_type": "code",
   "execution_count": 23,
   "metadata": {},
   "outputs": [
    {
     "data": {
      "text/plain": [
       "id_x                   63\n",
       "log_report_type        63\n",
       "volume                 63\n",
       "broadband_type         63\n",
       "transit_server_type    63\n",
       "outage_type            63\n",
       "area_code               0\n",
       "outage_duration        63\n",
       "id_y                    0\n",
       "dtype: int64"
      ]
     },
     "execution_count": 23,
     "metadata": {},
     "output_type": "execute_result"
    }
   ],
   "source": [
    "test_data.isna().sum()"
   ]
  },
  {
   "cell_type": "code",
   "execution_count": 24,
   "metadata": {},
   "outputs": [
    {
     "data": {
      "text/plain": [
       "dtype('int64')"
      ]
     },
     "execution_count": 24,
     "metadata": {},
     "output_type": "execute_result"
    }
   ],
   "source": [
    "test1.dtype"
   ]
  },
  {
   "cell_type": "code",
   "execution_count": 25,
   "metadata": {},
   "outputs": [],
   "source": [
    "test_data.drop(['id_x'],axis = 1 , inplace = True)"
   ]
  },
  {
   "cell_type": "code",
   "execution_count": 26,
   "metadata": {},
   "outputs": [],
   "source": [
    "test_data.drop(['outage_duration'], axis = 1 ,inplace= True)"
   ]
  },
  {
   "cell_type": "code",
   "execution_count": 27,
   "metadata": {},
   "outputs": [
    {
     "data": {
      "text/plain": [
       "(237264, 7)"
      ]
     },
     "execution_count": 27,
     "metadata": {},
     "output_type": "execute_result"
    }
   ],
   "source": [
    "test_data.shape"
   ]
  },
  {
   "cell_type": "markdown",
   "metadata": {},
   "source": []
  },
  {
   "cell_type": "markdown",
   "metadata": {},
   "source": [
    "### checking for na values "
   ]
  },
  {
   "cell_type": "code",
   "execution_count": 24,
   "metadata": {},
   "outputs": [
    {
     "name": "stdout",
     "output_type": "stream",
     "text": [
      "Total number of rows: 48973\n",
      "Number of  na values:\n",
      " * id: 0\n",
      " * log_report_type: 0\n",
      " * volume: 0\n",
      " * broadband_type: 0\n",
      " * transit_server_type: 0\n",
      " * outage_type: 0\n",
      " * area_code: 0\n",
      " * outage_duration: 0\n"
     ]
    }
   ],
   "source": [
    "print(\"Total number of rows: \" + str(len(data.index)))\n",
    "print(\"Number of  na values:\")\n",
    "for column in data.columns:\n",
    "    print(\" * \" + column + \": \" + str(data[column].isnull().sum()))"
   ]
  },
  {
   "cell_type": "code",
   "execution_count": 25,
   "metadata": {},
   "outputs": [
    {
     "name": "stdout",
     "output_type": "stream",
     "text": [
      "Total number of rows: 237264\n",
      "Number of  na values:\n",
      " * log_report_type: 63\n",
      " * volume: 63\n",
      " * broadband_type: 63\n",
      " * transit_server_type: 63\n",
      " * outage_type: 63\n",
      " * area_code: 0\n",
      " * id_y: 0\n"
     ]
    }
   ],
   "source": [
    "print(\"Total number of rows: \" + str(len(test_data.index)))\n",
    "print(\"Number of  na values:\")\n",
    "for column in test_data.columns:\n",
    "    print(\" * \" + column + \": \" + str(test_data[column].isnull().sum()))"
   ]
  },
  {
   "cell_type": "code",
   "execution_count": 28,
   "metadata": {},
   "outputs": [
    {
     "data": {
      "text/plain": [
       "(48973, 8)"
      ]
     },
     "execution_count": 28,
     "metadata": {},
     "output_type": "execute_result"
    }
   ],
   "source": [
    "data.shape"
   ]
  },
  {
   "cell_type": "code",
   "execution_count": 29,
   "metadata": {},
   "outputs": [
    {
     "data": {
      "text/plain": [
       "log_report_type         object\n",
       "volume                 float64\n",
       "broadband_type          object\n",
       "transit_server_type     object\n",
       "outage_type             object\n",
       "area_code               object\n",
       "id_y                     int64\n",
       "dtype: object"
      ]
     },
     "execution_count": 29,
     "metadata": {},
     "output_type": "execute_result"
    }
   ],
   "source": [
    "test_data.dtypes"
   ]
  },
  {
   "cell_type": "code",
   "execution_count": 30,
   "metadata": {},
   "outputs": [
    {
     "data": {
      "text/html": [
       "<div>\n",
       "<style scoped>\n",
       "    .dataframe tbody tr th:only-of-type {\n",
       "        vertical-align: middle;\n",
       "    }\n",
       "\n",
       "    .dataframe tbody tr th {\n",
       "        vertical-align: top;\n",
       "    }\n",
       "\n",
       "    .dataframe thead th {\n",
       "        text-align: right;\n",
       "    }\n",
       "</style>\n",
       "<table border=\"1\" class=\"dataframe\">\n",
       "  <thead>\n",
       "    <tr style=\"text-align: right;\">\n",
       "      <th></th>\n",
       "      <th>id</th>\n",
       "      <th>volume</th>\n",
       "      <th>outage_duration</th>\n",
       "    </tr>\n",
       "  </thead>\n",
       "  <tbody>\n",
       "    <tr>\n",
       "      <th>count</th>\n",
       "      <td>48973.000000</td>\n",
       "      <td>48973.000000</td>\n",
       "      <td>48973.000000</td>\n",
       "    </tr>\n",
       "    <tr>\n",
       "      <th>mean</th>\n",
       "      <td>9141.189084</td>\n",
       "      <td>8.605742</td>\n",
       "      <td>0.539889</td>\n",
       "    </tr>\n",
       "    <tr>\n",
       "      <th>std</th>\n",
       "      <td>5390.273600</td>\n",
       "      <td>23.487812</td>\n",
       "      <td>0.725738</td>\n",
       "    </tr>\n",
       "    <tr>\n",
       "      <th>min</th>\n",
       "      <td>1.000000</td>\n",
       "      <td>1.000000</td>\n",
       "      <td>0.000000</td>\n",
       "    </tr>\n",
       "    <tr>\n",
       "      <th>25%</th>\n",
       "      <td>4493.000000</td>\n",
       "      <td>1.000000</td>\n",
       "      <td>0.000000</td>\n",
       "    </tr>\n",
       "    <tr>\n",
       "      <th>50%</th>\n",
       "      <td>9107.000000</td>\n",
       "      <td>2.000000</td>\n",
       "      <td>0.000000</td>\n",
       "    </tr>\n",
       "    <tr>\n",
       "      <th>75%</th>\n",
       "      <td>13663.000000</td>\n",
       "      <td>6.000000</td>\n",
       "      <td>1.000000</td>\n",
       "    </tr>\n",
       "    <tr>\n",
       "      <th>max</th>\n",
       "      <td>18550.000000</td>\n",
       "      <td>877.000000</td>\n",
       "      <td>2.000000</td>\n",
       "    </tr>\n",
       "  </tbody>\n",
       "</table>\n",
       "</div>"
      ],
      "text/plain": [
       "                 id        volume  outage_duration\n",
       "count  48973.000000  48973.000000     48973.000000\n",
       "mean    9141.189084      8.605742         0.539889\n",
       "std     5390.273600     23.487812         0.725738\n",
       "min        1.000000      1.000000         0.000000\n",
       "25%     4493.000000      1.000000         0.000000\n",
       "50%     9107.000000      2.000000         0.000000\n",
       "75%    13663.000000      6.000000         1.000000\n",
       "max    18550.000000    877.000000         2.000000"
      ]
     },
     "execution_count": 30,
     "metadata": {},
     "output_type": "execute_result"
    }
   ],
   "source": [
    "data.describe()"
   ]
  },
  {
   "cell_type": "code",
   "execution_count": 31,
   "metadata": {},
   "outputs": [
    {
     "data": {
      "text/html": [
       "<div>\n",
       "<style scoped>\n",
       "    .dataframe tbody tr th:only-of-type {\n",
       "        vertical-align: middle;\n",
       "    }\n",
       "\n",
       "    .dataframe tbody tr th {\n",
       "        vertical-align: top;\n",
       "    }\n",
       "\n",
       "    .dataframe thead th {\n",
       "        text-align: right;\n",
       "    }\n",
       "</style>\n",
       "<table border=\"1\" class=\"dataframe\">\n",
       "  <thead>\n",
       "    <tr style=\"text-align: right;\">\n",
       "      <th></th>\n",
       "      <th>volume</th>\n",
       "      <th>id_y</th>\n",
       "    </tr>\n",
       "  </thead>\n",
       "  <tbody>\n",
       "    <tr>\n",
       "      <th>count</th>\n",
       "      <td>237201.000000</td>\n",
       "      <td>237264.000000</td>\n",
       "    </tr>\n",
       "    <tr>\n",
       "      <th>mean</th>\n",
       "      <td>11.441642</td>\n",
       "      <td>9034.102637</td>\n",
       "    </tr>\n",
       "    <tr>\n",
       "      <th>std</th>\n",
       "      <td>25.632849</td>\n",
       "      <td>5520.130038</td>\n",
       "    </tr>\n",
       "    <tr>\n",
       "      <th>min</th>\n",
       "      <td>1.000000</td>\n",
       "      <td>8.000000</td>\n",
       "    </tr>\n",
       "    <tr>\n",
       "      <th>25%</th>\n",
       "      <td>1.000000</td>\n",
       "      <td>4231.000000</td>\n",
       "    </tr>\n",
       "    <tr>\n",
       "      <th>50%</th>\n",
       "      <td>3.000000</td>\n",
       "      <td>8770.000000</td>\n",
       "    </tr>\n",
       "    <tr>\n",
       "      <th>75%</th>\n",
       "      <td>10.000000</td>\n",
       "      <td>13814.000000</td>\n",
       "    </tr>\n",
       "    <tr>\n",
       "      <th>max</th>\n",
       "      <td>877.000000</td>\n",
       "      <td>18539.000000</td>\n",
       "    </tr>\n",
       "  </tbody>\n",
       "</table>\n",
       "</div>"
      ],
      "text/plain": [
       "              volume           id_y\n",
       "count  237201.000000  237264.000000\n",
       "mean       11.441642    9034.102637\n",
       "std        25.632849    5520.130038\n",
       "min         1.000000       8.000000\n",
       "25%         1.000000    4231.000000\n",
       "50%         3.000000    8770.000000\n",
       "75%        10.000000   13814.000000\n",
       "max       877.000000   18539.000000"
      ]
     },
     "execution_count": 31,
     "metadata": {},
     "output_type": "execute_result"
    }
   ],
   "source": [
    "test_data.describe()"
   ]
  },
  {
   "cell_type": "code",
   "execution_count": 32,
   "metadata": {},
   "outputs": [
    {
     "data": {
      "text/plain": [
       "id                     5904\n",
       "log_report_type         310\n",
       "volume                  240\n",
       "broadband_type           10\n",
       "transit_server_type      49\n",
       "outage_type               5\n",
       "area_code               876\n",
       "outage_duration           3\n",
       "dtype: int64"
      ]
     },
     "execution_count": 32,
     "metadata": {},
     "output_type": "execute_result"
    }
   ],
   "source": [
    "data.nunique()\n"
   ]
  },
  {
   "cell_type": "code",
   "execution_count": 33,
   "metadata": {},
   "outputs": [
    {
     "data": {
      "text/plain": [
       "log_report_type         272\n",
       "volume                  238\n",
       "broadband_type           10\n",
       "transit_server_type      47\n",
       "outage_type               4\n",
       "area_code               531\n",
       "id_y                   1477\n",
       "dtype: int64"
      ]
     },
     "execution_count": 33,
     "metadata": {},
     "output_type": "execute_result"
    }
   ],
   "source": [
    "test_data.nunique()"
   ]
  },
  {
   "cell_type": "code",
   "execution_count": 34,
   "metadata": {},
   "outputs": [
    {
     "data": {
      "text/html": [
       "<div>\n",
       "<style scoped>\n",
       "    .dataframe tbody tr th:only-of-type {\n",
       "        vertical-align: middle;\n",
       "    }\n",
       "\n",
       "    .dataframe tbody tr th {\n",
       "        vertical-align: top;\n",
       "    }\n",
       "\n",
       "    .dataframe thead th {\n",
       "        text-align: right;\n",
       "    }\n",
       "</style>\n",
       "<table border=\"1\" class=\"dataframe\">\n",
       "  <thead>\n",
       "    <tr style=\"text-align: right;\">\n",
       "      <th></th>\n",
       "      <th>id</th>\n",
       "      <th>log_report_type</th>\n",
       "      <th>volume</th>\n",
       "      <th>broadband_type</th>\n",
       "      <th>transit_server_type</th>\n",
       "      <th>outage_type</th>\n",
       "      <th>area_code</th>\n",
       "      <th>outage_duration</th>\n",
       "    </tr>\n",
       "  </thead>\n",
       "  <tbody>\n",
       "  </tbody>\n",
       "</table>\n",
       "</div>"
      ],
      "text/plain": [
       "Empty DataFrame\n",
       "Columns: [id, log_report_type, volume, broadband_type, transit_server_type, outage_type, area_code, outage_duration]\n",
       "Index: []"
      ]
     },
     "execution_count": 34,
     "metadata": {},
     "output_type": "execute_result"
    }
   ],
   "source": [
    "datadp = data[data.duplicated()]\n",
    "datadp.head()"
   ]
  },
  {
   "cell_type": "code",
   "execution_count": 35,
   "metadata": {},
   "outputs": [
    {
     "data": {
      "text/html": [
       "<div>\n",
       "<style scoped>\n",
       "    .dataframe tbody tr th:only-of-type {\n",
       "        vertical-align: middle;\n",
       "    }\n",
       "\n",
       "    .dataframe tbody tr th {\n",
       "        vertical-align: top;\n",
       "    }\n",
       "\n",
       "    .dataframe thead th {\n",
       "        text-align: right;\n",
       "    }\n",
       "</style>\n",
       "<table border=\"1\" class=\"dataframe\">\n",
       "  <thead>\n",
       "    <tr style=\"text-align: right;\">\n",
       "      <th></th>\n",
       "      <th>log_report_type</th>\n",
       "      <th>volume</th>\n",
       "      <th>broadband_type</th>\n",
       "      <th>transit_server_type</th>\n",
       "      <th>outage_type</th>\n",
       "      <th>area_code</th>\n",
       "      <th>id_y</th>\n",
       "    </tr>\n",
       "  </thead>\n",
       "  <tbody>\n",
       "    <tr>\n",
       "      <th>31</th>\n",
       "      <td>log_report_type_172</td>\n",
       "      <td>2.0</td>\n",
       "      <td>broadband_type_8</td>\n",
       "      <td>transit_server_type_11</td>\n",
       "      <td>outage_type_1</td>\n",
       "      <td>area_1</td>\n",
       "      <td>8148</td>\n",
       "    </tr>\n",
       "    <tr>\n",
       "      <th>32</th>\n",
       "      <td>log_report_type_172</td>\n",
       "      <td>2.0</td>\n",
       "      <td>broadband_type_8</td>\n",
       "      <td>transit_server_type_15</td>\n",
       "      <td>outage_type_1</td>\n",
       "      <td>area_1</td>\n",
       "      <td>8148</td>\n",
       "    </tr>\n",
       "    <tr>\n",
       "      <th>51</th>\n",
       "      <td>log_report_type_201</td>\n",
       "      <td>2.0</td>\n",
       "      <td>broadband_type_8</td>\n",
       "      <td>transit_server_type_15</td>\n",
       "      <td>outage_type_1</td>\n",
       "      <td>area_1</td>\n",
       "      <td>8148</td>\n",
       "    </tr>\n",
       "    <tr>\n",
       "      <th>52</th>\n",
       "      <td>log_report_type_201</td>\n",
       "      <td>2.0</td>\n",
       "      <td>broadband_type_8</td>\n",
       "      <td>transit_server_type_11</td>\n",
       "      <td>outage_type_1</td>\n",
       "      <td>area_1</td>\n",
       "      <td>8148</td>\n",
       "    </tr>\n",
       "    <tr>\n",
       "      <th>58</th>\n",
       "      <td>log_report_type_201</td>\n",
       "      <td>5.0</td>\n",
       "      <td>broadband_type_8</td>\n",
       "      <td>transit_server_type_11</td>\n",
       "      <td>outage_type_1</td>\n",
       "      <td>area_1</td>\n",
       "      <td>8148</td>\n",
       "    </tr>\n",
       "    <tr>\n",
       "      <th>64</th>\n",
       "      <td>log_report_type_82</td>\n",
       "      <td>2.0</td>\n",
       "      <td>broadband_type_8</td>\n",
       "      <td>transit_server_type_15</td>\n",
       "      <td>outage_type_1</td>\n",
       "      <td>area_1</td>\n",
       "      <td>8148</td>\n",
       "    </tr>\n",
       "    <tr>\n",
       "      <th>65</th>\n",
       "      <td>log_report_type_82</td>\n",
       "      <td>2.0</td>\n",
       "      <td>broadband_type_8</td>\n",
       "      <td>transit_server_type_11</td>\n",
       "      <td>outage_type_1</td>\n",
       "      <td>area_1</td>\n",
       "      <td>8148</td>\n",
       "    </tr>\n",
       "    <tr>\n",
       "      <th>70</th>\n",
       "      <td>log_report_type_56</td>\n",
       "      <td>1.0</td>\n",
       "      <td>broadband_type_8</td>\n",
       "      <td>transit_server_type_15</td>\n",
       "      <td>outage_type_1</td>\n",
       "      <td>area_1</td>\n",
       "      <td>8148</td>\n",
       "    </tr>\n",
       "    <tr>\n",
       "      <th>71</th>\n",
       "      <td>log_report_type_56</td>\n",
       "      <td>1.0</td>\n",
       "      <td>broadband_type_8</td>\n",
       "      <td>transit_server_type_11</td>\n",
       "      <td>outage_type_1</td>\n",
       "      <td>area_1</td>\n",
       "      <td>8148</td>\n",
       "    </tr>\n",
       "    <tr>\n",
       "      <th>104</th>\n",
       "      <td>log_report_type_201</td>\n",
       "      <td>2.0</td>\n",
       "      <td>broadband_type_8</td>\n",
       "      <td>transit_server_type_11</td>\n",
       "      <td>outage_type_1</td>\n",
       "      <td>area_1</td>\n",
       "      <td>8148</td>\n",
       "    </tr>\n",
       "    <tr>\n",
       "      <th>105</th>\n",
       "      <td>log_report_type_201</td>\n",
       "      <td>2.0</td>\n",
       "      <td>broadband_type_8</td>\n",
       "      <td>transit_server_type_15</td>\n",
       "      <td>outage_type_1</td>\n",
       "      <td>area_1</td>\n",
       "      <td>8148</td>\n",
       "    </tr>\n",
       "    <tr>\n",
       "      <th>106</th>\n",
       "      <td>log_report_type_82</td>\n",
       "      <td>2.0</td>\n",
       "      <td>broadband_type_8</td>\n",
       "      <td>transit_server_type_11</td>\n",
       "      <td>outage_type_1</td>\n",
       "      <td>area_1</td>\n",
       "      <td>8148</td>\n",
       "    </tr>\n",
       "    <tr>\n",
       "      <th>107</th>\n",
       "      <td>log_report_type_82</td>\n",
       "      <td>2.0</td>\n",
       "      <td>broadband_type_8</td>\n",
       "      <td>transit_server_type_15</td>\n",
       "      <td>outage_type_1</td>\n",
       "      <td>area_1</td>\n",
       "      <td>8148</td>\n",
       "    </tr>\n",
       "    <tr>\n",
       "      <th>108</th>\n",
       "      <td>log_report_type_80</td>\n",
       "      <td>2.0</td>\n",
       "      <td>broadband_type_8</td>\n",
       "      <td>transit_server_type_11</td>\n",
       "      <td>outage_type_1</td>\n",
       "      <td>area_1</td>\n",
       "      <td>8148</td>\n",
       "    </tr>\n",
       "    <tr>\n",
       "      <th>109</th>\n",
       "      <td>log_report_type_80</td>\n",
       "      <td>2.0</td>\n",
       "      <td>broadband_type_8</td>\n",
       "      <td>transit_server_type_15</td>\n",
       "      <td>outage_type_1</td>\n",
       "      <td>area_1</td>\n",
       "      <td>8148</td>\n",
       "    </tr>\n",
       "    <tr>\n",
       "      <th>124</th>\n",
       "      <td>log_report_type_56</td>\n",
       "      <td>1.0</td>\n",
       "      <td>broadband_type_8</td>\n",
       "      <td>transit_server_type_11</td>\n",
       "      <td>outage_type_1</td>\n",
       "      <td>area_1</td>\n",
       "      <td>8148</td>\n",
       "    </tr>\n",
       "    <tr>\n",
       "      <th>125</th>\n",
       "      <td>log_report_type_56</td>\n",
       "      <td>1.0</td>\n",
       "      <td>broadband_type_8</td>\n",
       "      <td>transit_server_type_15</td>\n",
       "      <td>outage_type_1</td>\n",
       "      <td>area_1</td>\n",
       "      <td>8148</td>\n",
       "    </tr>\n",
       "    <tr>\n",
       "      <th>128</th>\n",
       "      <td>log_report_type_80</td>\n",
       "      <td>2.0</td>\n",
       "      <td>broadband_type_8</td>\n",
       "      <td>transit_server_type_11</td>\n",
       "      <td>outage_type_1</td>\n",
       "      <td>area_1</td>\n",
       "      <td>8148</td>\n",
       "    </tr>\n",
       "    <tr>\n",
       "      <th>129</th>\n",
       "      <td>log_report_type_80</td>\n",
       "      <td>2.0</td>\n",
       "      <td>broadband_type_8</td>\n",
       "      <td>transit_server_type_15</td>\n",
       "      <td>outage_type_1</td>\n",
       "      <td>area_1</td>\n",
       "      <td>8148</td>\n",
       "    </tr>\n",
       "    <tr>\n",
       "      <th>130</th>\n",
       "      <td>log_report_type_203</td>\n",
       "      <td>5.0</td>\n",
       "      <td>broadband_type_8</td>\n",
       "      <td>transit_server_type_11</td>\n",
       "      <td>outage_type_1</td>\n",
       "      <td>area_1</td>\n",
       "      <td>8148</td>\n",
       "    </tr>\n",
       "    <tr>\n",
       "      <th>131</th>\n",
       "      <td>log_report_type_203</td>\n",
       "      <td>5.0</td>\n",
       "      <td>broadband_type_8</td>\n",
       "      <td>transit_server_type_15</td>\n",
       "      <td>outage_type_1</td>\n",
       "      <td>area_1</td>\n",
       "      <td>8148</td>\n",
       "    </tr>\n",
       "    <tr>\n",
       "      <th>132</th>\n",
       "      <td>log_report_type_201</td>\n",
       "      <td>1.0</td>\n",
       "      <td>broadband_type_8</td>\n",
       "      <td>transit_server_type_11</td>\n",
       "      <td>outage_type_1</td>\n",
       "      <td>area_1</td>\n",
       "      <td>8148</td>\n",
       "    </tr>\n",
       "    <tr>\n",
       "      <th>133</th>\n",
       "      <td>log_report_type_201</td>\n",
       "      <td>1.0</td>\n",
       "      <td>broadband_type_8</td>\n",
       "      <td>transit_server_type_15</td>\n",
       "      <td>outage_type_1</td>\n",
       "      <td>area_1</td>\n",
       "      <td>8148</td>\n",
       "    </tr>\n",
       "    <tr>\n",
       "      <th>134</th>\n",
       "      <td>log_report_type_172</td>\n",
       "      <td>2.0</td>\n",
       "      <td>broadband_type_8</td>\n",
       "      <td>transit_server_type_15</td>\n",
       "      <td>outage_type_1</td>\n",
       "      <td>area_1</td>\n",
       "      <td>8148</td>\n",
       "    </tr>\n",
       "    <tr>\n",
       "      <th>135</th>\n",
       "      <td>log_report_type_172</td>\n",
       "      <td>2.0</td>\n",
       "      <td>broadband_type_8</td>\n",
       "      <td>transit_server_type_11</td>\n",
       "      <td>outage_type_1</td>\n",
       "      <td>area_1</td>\n",
       "      <td>8148</td>\n",
       "    </tr>\n",
       "    <tr>\n",
       "      <th>142</th>\n",
       "      <td>log_report_type_80</td>\n",
       "      <td>1.0</td>\n",
       "      <td>broadband_type_8</td>\n",
       "      <td>transit_server_type_15</td>\n",
       "      <td>outage_type_1</td>\n",
       "      <td>area_1</td>\n",
       "      <td>8148</td>\n",
       "    </tr>\n",
       "    <tr>\n",
       "      <th>143</th>\n",
       "      <td>log_report_type_80</td>\n",
       "      <td>1.0</td>\n",
       "      <td>broadband_type_8</td>\n",
       "      <td>transit_server_type_11</td>\n",
       "      <td>outage_type_1</td>\n",
       "      <td>area_1</td>\n",
       "      <td>8148</td>\n",
       "    </tr>\n",
       "    <tr>\n",
       "      <th>147</th>\n",
       "      <td>log_report_type_80</td>\n",
       "      <td>1.0</td>\n",
       "      <td>broadband_type_8</td>\n",
       "      <td>transit_server_type_15</td>\n",
       "      <td>outage_type_2</td>\n",
       "      <td>area_1</td>\n",
       "      <td>8148</td>\n",
       "    </tr>\n",
       "    <tr>\n",
       "      <th>148</th>\n",
       "      <td>log_report_type_201</td>\n",
       "      <td>1.0</td>\n",
       "      <td>broadband_type_8</td>\n",
       "      <td>transit_server_type_15</td>\n",
       "      <td>outage_type_2</td>\n",
       "      <td>area_1</td>\n",
       "      <td>8148</td>\n",
       "    </tr>\n",
       "    <tr>\n",
       "      <th>180</th>\n",
       "      <td>log_report_type_172</td>\n",
       "      <td>2.0</td>\n",
       "      <td>broadband_type_8</td>\n",
       "      <td>transit_server_type_11</td>\n",
       "      <td>outage_type_1</td>\n",
       "      <td>area_1</td>\n",
       "      <td>2250</td>\n",
       "    </tr>\n",
       "    <tr>\n",
       "      <th>...</th>\n",
       "      <td>...</td>\n",
       "      <td>...</td>\n",
       "      <td>...</td>\n",
       "      <td>...</td>\n",
       "      <td>...</td>\n",
       "      <td>...</td>\n",
       "      <td>...</td>\n",
       "    </tr>\n",
       "    <tr>\n",
       "      <th>237115</th>\n",
       "      <td>log_report_type_71</td>\n",
       "      <td>5.0</td>\n",
       "      <td>broadband_type_8</td>\n",
       "      <td>transit_server_type_11</td>\n",
       "      <td>outage_type_1</td>\n",
       "      <td>area_995</td>\n",
       "      <td>16873</td>\n",
       "    </tr>\n",
       "    <tr>\n",
       "      <th>237116</th>\n",
       "      <td>log_report_type_203</td>\n",
       "      <td>2.0</td>\n",
       "      <td>broadband_type_8</td>\n",
       "      <td>transit_server_type_15</td>\n",
       "      <td>outage_type_1</td>\n",
       "      <td>area_995</td>\n",
       "      <td>16873</td>\n",
       "    </tr>\n",
       "    <tr>\n",
       "      <th>237117</th>\n",
       "      <td>log_report_type_203</td>\n",
       "      <td>2.0</td>\n",
       "      <td>broadband_type_8</td>\n",
       "      <td>transit_server_type_11</td>\n",
       "      <td>outage_type_1</td>\n",
       "      <td>area_995</td>\n",
       "      <td>16873</td>\n",
       "    </tr>\n",
       "    <tr>\n",
       "      <th>237124</th>\n",
       "      <td>log_report_type_82</td>\n",
       "      <td>8.0</td>\n",
       "      <td>broadband_type_8</td>\n",
       "      <td>transit_server_type_15</td>\n",
       "      <td>outage_type_1</td>\n",
       "      <td>area_995</td>\n",
       "      <td>16873</td>\n",
       "    </tr>\n",
       "    <tr>\n",
       "      <th>237125</th>\n",
       "      <td>log_report_type_82</td>\n",
       "      <td>8.0</td>\n",
       "      <td>broadband_type_8</td>\n",
       "      <td>transit_server_type_11</td>\n",
       "      <td>outage_type_1</td>\n",
       "      <td>area_995</td>\n",
       "      <td>16873</td>\n",
       "    </tr>\n",
       "    <tr>\n",
       "      <th>237126</th>\n",
       "      <td>log_report_type_193</td>\n",
       "      <td>1.0</td>\n",
       "      <td>broadband_type_8</td>\n",
       "      <td>transit_server_type_15</td>\n",
       "      <td>outage_type_1</td>\n",
       "      <td>area_995</td>\n",
       "      <td>16873</td>\n",
       "    </tr>\n",
       "    <tr>\n",
       "      <th>237127</th>\n",
       "      <td>log_report_type_193</td>\n",
       "      <td>1.0</td>\n",
       "      <td>broadband_type_8</td>\n",
       "      <td>transit_server_type_11</td>\n",
       "      <td>outage_type_1</td>\n",
       "      <td>area_995</td>\n",
       "      <td>16873</td>\n",
       "    </tr>\n",
       "    <tr>\n",
       "      <th>237128</th>\n",
       "      <td>log_report_type_71</td>\n",
       "      <td>2.0</td>\n",
       "      <td>broadband_type_8</td>\n",
       "      <td>transit_server_type_15</td>\n",
       "      <td>outage_type_1</td>\n",
       "      <td>area_995</td>\n",
       "      <td>16873</td>\n",
       "    </tr>\n",
       "    <tr>\n",
       "      <th>237129</th>\n",
       "      <td>log_report_type_71</td>\n",
       "      <td>2.0</td>\n",
       "      <td>broadband_type_8</td>\n",
       "      <td>transit_server_type_11</td>\n",
       "      <td>outage_type_1</td>\n",
       "      <td>area_995</td>\n",
       "      <td>16873</td>\n",
       "    </tr>\n",
       "    <tr>\n",
       "      <th>237130</th>\n",
       "      <td>log_report_type_203</td>\n",
       "      <td>2.0</td>\n",
       "      <td>broadband_type_8</td>\n",
       "      <td>transit_server_type_15</td>\n",
       "      <td>outage_type_1</td>\n",
       "      <td>area_995</td>\n",
       "      <td>16873</td>\n",
       "    </tr>\n",
       "    <tr>\n",
       "      <th>237131</th>\n",
       "      <td>log_report_type_203</td>\n",
       "      <td>2.0</td>\n",
       "      <td>broadband_type_8</td>\n",
       "      <td>transit_server_type_11</td>\n",
       "      <td>outage_type_1</td>\n",
       "      <td>area_995</td>\n",
       "      <td>16873</td>\n",
       "    </tr>\n",
       "    <tr>\n",
       "      <th>237134</th>\n",
       "      <td>log_report_type_82</td>\n",
       "      <td>6.0</td>\n",
       "      <td>broadband_type_8</td>\n",
       "      <td>transit_server_type_11</td>\n",
       "      <td>outage_type_1</td>\n",
       "      <td>area_995</td>\n",
       "      <td>16873</td>\n",
       "    </tr>\n",
       "    <tr>\n",
       "      <th>237135</th>\n",
       "      <td>log_report_type_82</td>\n",
       "      <td>6.0</td>\n",
       "      <td>broadband_type_8</td>\n",
       "      <td>transit_server_type_15</td>\n",
       "      <td>outage_type_1</td>\n",
       "      <td>area_995</td>\n",
       "      <td>16873</td>\n",
       "    </tr>\n",
       "    <tr>\n",
       "      <th>237138</th>\n",
       "      <td>log_report_type_193</td>\n",
       "      <td>4.0</td>\n",
       "      <td>broadband_type_8</td>\n",
       "      <td>transit_server_type_11</td>\n",
       "      <td>outage_type_1</td>\n",
       "      <td>area_995</td>\n",
       "      <td>16873</td>\n",
       "    </tr>\n",
       "    <tr>\n",
       "      <th>237139</th>\n",
       "      <td>log_report_type_193</td>\n",
       "      <td>4.0</td>\n",
       "      <td>broadband_type_8</td>\n",
       "      <td>transit_server_type_15</td>\n",
       "      <td>outage_type_1</td>\n",
       "      <td>area_995</td>\n",
       "      <td>16873</td>\n",
       "    </tr>\n",
       "    <tr>\n",
       "      <th>237140</th>\n",
       "      <td>log_report_type_71</td>\n",
       "      <td>3.0</td>\n",
       "      <td>broadband_type_8</td>\n",
       "      <td>transit_server_type_11</td>\n",
       "      <td>outage_type_1</td>\n",
       "      <td>area_995</td>\n",
       "      <td>16873</td>\n",
       "    </tr>\n",
       "    <tr>\n",
       "      <th>237141</th>\n",
       "      <td>log_report_type_71</td>\n",
       "      <td>3.0</td>\n",
       "      <td>broadband_type_8</td>\n",
       "      <td>transit_server_type_15</td>\n",
       "      <td>outage_type_1</td>\n",
       "      <td>area_995</td>\n",
       "      <td>16873</td>\n",
       "    </tr>\n",
       "    <tr>\n",
       "      <th>237142</th>\n",
       "      <td>log_report_type_203</td>\n",
       "      <td>6.0</td>\n",
       "      <td>broadband_type_8</td>\n",
       "      <td>transit_server_type_11</td>\n",
       "      <td>outage_type_1</td>\n",
       "      <td>area_995</td>\n",
       "      <td>16873</td>\n",
       "    </tr>\n",
       "    <tr>\n",
       "      <th>237143</th>\n",
       "      <td>log_report_type_203</td>\n",
       "      <td>6.0</td>\n",
       "      <td>broadband_type_8</td>\n",
       "      <td>transit_server_type_15</td>\n",
       "      <td>outage_type_1</td>\n",
       "      <td>area_995</td>\n",
       "      <td>16873</td>\n",
       "    </tr>\n",
       "    <tr>\n",
       "      <th>237144</th>\n",
       "      <td>log_report_type_82</td>\n",
       "      <td>6.0</td>\n",
       "      <td>broadband_type_8</td>\n",
       "      <td>transit_server_type_11</td>\n",
       "      <td>outage_type_1</td>\n",
       "      <td>area_995</td>\n",
       "      <td>16873</td>\n",
       "    </tr>\n",
       "    <tr>\n",
       "      <th>237145</th>\n",
       "      <td>log_report_type_82</td>\n",
       "      <td>6.0</td>\n",
       "      <td>broadband_type_8</td>\n",
       "      <td>transit_server_type_15</td>\n",
       "      <td>outage_type_1</td>\n",
       "      <td>area_995</td>\n",
       "      <td>16873</td>\n",
       "    </tr>\n",
       "    <tr>\n",
       "      <th>237151</th>\n",
       "      <td>log_report_type_201</td>\n",
       "      <td>1.0</td>\n",
       "      <td>broadband_type_8</td>\n",
       "      <td>transit_server_type_15</td>\n",
       "      <td>outage_type_2</td>\n",
       "      <td>area_996</td>\n",
       "      <td>3511</td>\n",
       "    </tr>\n",
       "    <tr>\n",
       "      <th>237161</th>\n",
       "      <td>log_report_type_54</td>\n",
       "      <td>3.0</td>\n",
       "      <td>broadband_type_8</td>\n",
       "      <td>transit_server_type_11</td>\n",
       "      <td>outage_type_1</td>\n",
       "      <td>area_998</td>\n",
       "      <td>11382</td>\n",
       "    </tr>\n",
       "    <tr>\n",
       "      <th>237162</th>\n",
       "      <td>log_report_type_170</td>\n",
       "      <td>1.0</td>\n",
       "      <td>broadband_type_8</td>\n",
       "      <td>transit_server_type_11</td>\n",
       "      <td>outage_type_1</td>\n",
       "      <td>area_998</td>\n",
       "      <td>11382</td>\n",
       "    </tr>\n",
       "    <tr>\n",
       "      <th>237165</th>\n",
       "      <td>log_report_type_68</td>\n",
       "      <td>1.0</td>\n",
       "      <td>broadband_type_8</td>\n",
       "      <td>transit_server_type_11</td>\n",
       "      <td>outage_type_1</td>\n",
       "      <td>area_998</td>\n",
       "      <td>11382</td>\n",
       "    </tr>\n",
       "    <tr>\n",
       "      <th>237166</th>\n",
       "      <td>log_report_type_54</td>\n",
       "      <td>1.0</td>\n",
       "      <td>broadband_type_8</td>\n",
       "      <td>transit_server_type_11</td>\n",
       "      <td>outage_type_1</td>\n",
       "      <td>area_998</td>\n",
       "      <td>11382</td>\n",
       "    </tr>\n",
       "    <tr>\n",
       "      <th>237181</th>\n",
       "      <td>log_report_type_54</td>\n",
       "      <td>3.0</td>\n",
       "      <td>broadband_type_8</td>\n",
       "      <td>transit_server_type_11</td>\n",
       "      <td>outage_type_1</td>\n",
       "      <td>area_998</td>\n",
       "      <td>14916</td>\n",
       "    </tr>\n",
       "    <tr>\n",
       "      <th>237182</th>\n",
       "      <td>log_report_type_170</td>\n",
       "      <td>1.0</td>\n",
       "      <td>broadband_type_8</td>\n",
       "      <td>transit_server_type_11</td>\n",
       "      <td>outage_type_1</td>\n",
       "      <td>area_998</td>\n",
       "      <td>14916</td>\n",
       "    </tr>\n",
       "    <tr>\n",
       "      <th>237185</th>\n",
       "      <td>log_report_type_68</td>\n",
       "      <td>1.0</td>\n",
       "      <td>broadband_type_8</td>\n",
       "      <td>transit_server_type_11</td>\n",
       "      <td>outage_type_1</td>\n",
       "      <td>area_998</td>\n",
       "      <td>14916</td>\n",
       "    </tr>\n",
       "    <tr>\n",
       "      <th>237186</th>\n",
       "      <td>log_report_type_54</td>\n",
       "      <td>1.0</td>\n",
       "      <td>broadband_type_8</td>\n",
       "      <td>transit_server_type_11</td>\n",
       "      <td>outage_type_1</td>\n",
       "      <td>area_998</td>\n",
       "      <td>14916</td>\n",
       "    </tr>\n",
       "  </tbody>\n",
       "</table>\n",
       "<p>79763 rows × 7 columns</p>\n",
       "</div>"
      ],
      "text/plain": [
       "            log_report_type  volume    broadband_type     transit_server_type  \\\n",
       "31      log_report_type_172     2.0  broadband_type_8  transit_server_type_11   \n",
       "32      log_report_type_172     2.0  broadband_type_8  transit_server_type_15   \n",
       "51      log_report_type_201     2.0  broadband_type_8  transit_server_type_15   \n",
       "52      log_report_type_201     2.0  broadband_type_8  transit_server_type_11   \n",
       "58      log_report_type_201     5.0  broadband_type_8  transit_server_type_11   \n",
       "64       log_report_type_82     2.0  broadband_type_8  transit_server_type_15   \n",
       "65       log_report_type_82     2.0  broadband_type_8  transit_server_type_11   \n",
       "70       log_report_type_56     1.0  broadband_type_8  transit_server_type_15   \n",
       "71       log_report_type_56     1.0  broadband_type_8  transit_server_type_11   \n",
       "104     log_report_type_201     2.0  broadband_type_8  transit_server_type_11   \n",
       "105     log_report_type_201     2.0  broadband_type_8  transit_server_type_15   \n",
       "106      log_report_type_82     2.0  broadband_type_8  transit_server_type_11   \n",
       "107      log_report_type_82     2.0  broadband_type_8  transit_server_type_15   \n",
       "108      log_report_type_80     2.0  broadband_type_8  transit_server_type_11   \n",
       "109      log_report_type_80     2.0  broadband_type_8  transit_server_type_15   \n",
       "124      log_report_type_56     1.0  broadband_type_8  transit_server_type_11   \n",
       "125      log_report_type_56     1.0  broadband_type_8  transit_server_type_15   \n",
       "128      log_report_type_80     2.0  broadband_type_8  transit_server_type_11   \n",
       "129      log_report_type_80     2.0  broadband_type_8  transit_server_type_15   \n",
       "130     log_report_type_203     5.0  broadband_type_8  transit_server_type_11   \n",
       "131     log_report_type_203     5.0  broadband_type_8  transit_server_type_15   \n",
       "132     log_report_type_201     1.0  broadband_type_8  transit_server_type_11   \n",
       "133     log_report_type_201     1.0  broadband_type_8  transit_server_type_15   \n",
       "134     log_report_type_172     2.0  broadband_type_8  transit_server_type_15   \n",
       "135     log_report_type_172     2.0  broadband_type_8  transit_server_type_11   \n",
       "142      log_report_type_80     1.0  broadband_type_8  transit_server_type_15   \n",
       "143      log_report_type_80     1.0  broadband_type_8  transit_server_type_11   \n",
       "147      log_report_type_80     1.0  broadband_type_8  transit_server_type_15   \n",
       "148     log_report_type_201     1.0  broadband_type_8  transit_server_type_15   \n",
       "180     log_report_type_172     2.0  broadband_type_8  transit_server_type_11   \n",
       "...                     ...     ...               ...                     ...   \n",
       "237115   log_report_type_71     5.0  broadband_type_8  transit_server_type_11   \n",
       "237116  log_report_type_203     2.0  broadband_type_8  transit_server_type_15   \n",
       "237117  log_report_type_203     2.0  broadband_type_8  transit_server_type_11   \n",
       "237124   log_report_type_82     8.0  broadband_type_8  transit_server_type_15   \n",
       "237125   log_report_type_82     8.0  broadband_type_8  transit_server_type_11   \n",
       "237126  log_report_type_193     1.0  broadband_type_8  transit_server_type_15   \n",
       "237127  log_report_type_193     1.0  broadband_type_8  transit_server_type_11   \n",
       "237128   log_report_type_71     2.0  broadband_type_8  transit_server_type_15   \n",
       "237129   log_report_type_71     2.0  broadband_type_8  transit_server_type_11   \n",
       "237130  log_report_type_203     2.0  broadband_type_8  transit_server_type_15   \n",
       "237131  log_report_type_203     2.0  broadband_type_8  transit_server_type_11   \n",
       "237134   log_report_type_82     6.0  broadband_type_8  transit_server_type_11   \n",
       "237135   log_report_type_82     6.0  broadband_type_8  transit_server_type_15   \n",
       "237138  log_report_type_193     4.0  broadband_type_8  transit_server_type_11   \n",
       "237139  log_report_type_193     4.0  broadband_type_8  transit_server_type_15   \n",
       "237140   log_report_type_71     3.0  broadband_type_8  transit_server_type_11   \n",
       "237141   log_report_type_71     3.0  broadband_type_8  transit_server_type_15   \n",
       "237142  log_report_type_203     6.0  broadband_type_8  transit_server_type_11   \n",
       "237143  log_report_type_203     6.0  broadband_type_8  transit_server_type_15   \n",
       "237144   log_report_type_82     6.0  broadband_type_8  transit_server_type_11   \n",
       "237145   log_report_type_82     6.0  broadband_type_8  transit_server_type_15   \n",
       "237151  log_report_type_201     1.0  broadband_type_8  transit_server_type_15   \n",
       "237161   log_report_type_54     3.0  broadband_type_8  transit_server_type_11   \n",
       "237162  log_report_type_170     1.0  broadband_type_8  transit_server_type_11   \n",
       "237165   log_report_type_68     1.0  broadband_type_8  transit_server_type_11   \n",
       "237166   log_report_type_54     1.0  broadband_type_8  transit_server_type_11   \n",
       "237181   log_report_type_54     3.0  broadband_type_8  transit_server_type_11   \n",
       "237182  log_report_type_170     1.0  broadband_type_8  transit_server_type_11   \n",
       "237185   log_report_type_68     1.0  broadband_type_8  transit_server_type_11   \n",
       "237186   log_report_type_54     1.0  broadband_type_8  transit_server_type_11   \n",
       "\n",
       "          outage_type area_code   id_y  \n",
       "31      outage_type_1    area_1   8148  \n",
       "32      outage_type_1    area_1   8148  \n",
       "51      outage_type_1    area_1   8148  \n",
       "52      outage_type_1    area_1   8148  \n",
       "58      outage_type_1    area_1   8148  \n",
       "64      outage_type_1    area_1   8148  \n",
       "65      outage_type_1    area_1   8148  \n",
       "70      outage_type_1    area_1   8148  \n",
       "71      outage_type_1    area_1   8148  \n",
       "104     outage_type_1    area_1   8148  \n",
       "105     outage_type_1    area_1   8148  \n",
       "106     outage_type_1    area_1   8148  \n",
       "107     outage_type_1    area_1   8148  \n",
       "108     outage_type_1    area_1   8148  \n",
       "109     outage_type_1    area_1   8148  \n",
       "124     outage_type_1    area_1   8148  \n",
       "125     outage_type_1    area_1   8148  \n",
       "128     outage_type_1    area_1   8148  \n",
       "129     outage_type_1    area_1   8148  \n",
       "130     outage_type_1    area_1   8148  \n",
       "131     outage_type_1    area_1   8148  \n",
       "132     outage_type_1    area_1   8148  \n",
       "133     outage_type_1    area_1   8148  \n",
       "134     outage_type_1    area_1   8148  \n",
       "135     outage_type_1    area_1   8148  \n",
       "142     outage_type_1    area_1   8148  \n",
       "143     outage_type_1    area_1   8148  \n",
       "147     outage_type_2    area_1   8148  \n",
       "148     outage_type_2    area_1   8148  \n",
       "180     outage_type_1    area_1   2250  \n",
       "...               ...       ...    ...  \n",
       "237115  outage_type_1  area_995  16873  \n",
       "237116  outage_type_1  area_995  16873  \n",
       "237117  outage_type_1  area_995  16873  \n",
       "237124  outage_type_1  area_995  16873  \n",
       "237125  outage_type_1  area_995  16873  \n",
       "237126  outage_type_1  area_995  16873  \n",
       "237127  outage_type_1  area_995  16873  \n",
       "237128  outage_type_1  area_995  16873  \n",
       "237129  outage_type_1  area_995  16873  \n",
       "237130  outage_type_1  area_995  16873  \n",
       "237131  outage_type_1  area_995  16873  \n",
       "237134  outage_type_1  area_995  16873  \n",
       "237135  outage_type_1  area_995  16873  \n",
       "237138  outage_type_1  area_995  16873  \n",
       "237139  outage_type_1  area_995  16873  \n",
       "237140  outage_type_1  area_995  16873  \n",
       "237141  outage_type_1  area_995  16873  \n",
       "237142  outage_type_1  area_995  16873  \n",
       "237143  outage_type_1  area_995  16873  \n",
       "237144  outage_type_1  area_995  16873  \n",
       "237145  outage_type_1  area_995  16873  \n",
       "237151  outage_type_2  area_996   3511  \n",
       "237161  outage_type_1  area_998  11382  \n",
       "237162  outage_type_1  area_998  11382  \n",
       "237165  outage_type_1  area_998  11382  \n",
       "237166  outage_type_1  area_998  11382  \n",
       "237181  outage_type_1  area_998  14916  \n",
       "237182  outage_type_1  area_998  14916  \n",
       "237185  outage_type_1  area_998  14916  \n",
       "237186  outage_type_1  area_998  14916  \n",
       "\n",
       "[79763 rows x 7 columns]"
      ]
     },
     "execution_count": 35,
     "metadata": {},
     "output_type": "execute_result"
    }
   ],
   "source": [
    "test_datadp = test_data[test_data.duplicated()]\n",
    "test_datadp"
   ]
  },
  {
   "cell_type": "code",
   "execution_count": 36,
   "metadata": {},
   "outputs": [],
   "source": [
    "test_data.drop_duplicates(subset = \"id_y\", inplace = True)"
   ]
  },
  {
   "cell_type": "code",
   "execution_count": 37,
   "metadata": {},
   "outputs": [
    {
     "data": {
      "text/plain": [
       "(1477, 7)"
      ]
     },
     "execution_count": 37,
     "metadata": {},
     "output_type": "execute_result"
    }
   ],
   "source": [
    "test_data.shape"
   ]
  },
  {
   "cell_type": "code",
   "execution_count": 38,
   "metadata": {},
   "outputs": [
    {
     "data": {
      "text/plain": [
       "(1477,)"
      ]
     },
     "execution_count": 38,
     "metadata": {},
     "output_type": "execute_result"
    }
   ],
   "source": [
    "test_data[\"id_y\"].shape"
   ]
  },
  {
   "cell_type": "code",
   "execution_count": 77,
   "metadata": {},
   "outputs": [
    {
     "data": {
      "text/plain": [
       "id                     int64\n",
       "log_report_type        int16\n",
       "volume                 int64\n",
       "broadband_type         int64\n",
       "transit_server_type    int64\n",
       "outage_type            int64\n",
       "area_code              int16\n",
       "outage_duration        int64\n",
       "dtype: object"
      ]
     },
     "execution_count": 77,
     "metadata": {},
     "output_type": "execute_result"
    }
   ],
   "source": [
    "data.dtypes"
   ]
  },
  {
   "cell_type": "code",
   "execution_count": 91,
   "metadata": {},
   "outputs": [
    {
     "data": {
      "text/plain": [
       "id                     int64\n",
       "log_report_type        int16\n",
       "volume                 int64\n",
       "broadband_type         int64\n",
       "transit_server_type    int64\n",
       "outage_type            int64\n",
       "area_code              int16\n",
       "outage_duration        int64\n",
       "dtype: object"
      ]
     },
     "execution_count": 91,
     "metadata": {},
     "output_type": "execute_result"
    }
   ],
   "source": [
    "data.dtypes"
   ]
  },
  {
   "cell_type": "code",
   "execution_count": 75,
   "metadata": {},
   "outputs": [],
   "source": [
    "data.log_report_type = data.log_report_type.astype(\"category\").cat.codes"
   ]
  },
  {
   "cell_type": "code",
   "execution_count": 86,
   "metadata": {},
   "outputs": [],
   "source": [
    "test_data.outage_type.fillna(test_data.outage_type.mean(),inplace=True)\n"
   ]
  },
  {
   "cell_type": "code",
   "execution_count": null,
   "metadata": {},
   "outputs": [],
   "source": []
  },
  {
   "cell_type": "code",
   "execution_count": 76,
   "metadata": {},
   "outputs": [],
   "source": [
    "data.area_code = data.area_code.astype(\"category\").cat.codes"
   ]
  },
  {
   "cell_type": "code",
   "execution_count": 71,
   "metadata": {},
   "outputs": [],
   "source": [
    "test_data.log_report_type = test_data.log_report_type.astype(\"category\").cat.codes"
   ]
  },
  {
   "cell_type": "code",
   "execution_count": null,
   "metadata": {},
   "outputs": [],
   "source": []
  },
  {
   "cell_type": "code",
   "execution_count": 41,
   "metadata": {},
   "outputs": [
    {
     "name": "stdout",
     "output_type": "stream",
     "text": [
      "     id      log_report_type  volume  broadband_type     transit_server_type  \\\n",
      "0  8011   log_report_type_68       7               8  transit_server_type_15   \n",
      "1  2588   log_report_type_82       9               8  transit_server_type_15   \n",
      "2  2588   log_report_type_82       9               8  transit_server_type_11   \n",
      "3  2588  log_report_type_201       5               8  transit_server_type_15   \n",
      "4  2588  log_report_type_201       5               8  transit_server_type_11   \n",
      "\n",
      "     outage_type area_code  outage_duration  \n",
      "0  outage_type_2    area_1                0  \n",
      "1  outage_type_1    area_1                0  \n",
      "2  outage_type_1    area_1                0  \n",
      "3  outage_type_1    area_1                0  \n",
      "4  outage_type_1    area_1                0  \n"
     ]
    }
   ],
   "source": [
    "from sklearn.preprocessing import LabelEncoder\n",
    "from sklearn import preprocessing\n",
    "label_encoder = preprocessing.LabelEncoder() \n",
    "data['broadband_type']= label_encoder.fit_transform(data['broadband_type']) \n",
    "print(data.head())"
   ]
  },
  {
   "cell_type": "markdown",
   "metadata": {},
   "source": [
    "### no duplicate values found "
   ]
  },
  {
   "cell_type": "markdown",
   "metadata": {},
   "source": [
    "## Mapping few categorical features so it heps in visualization."
   ]
  },
  {
   "cell_type": "code",
   "execution_count": 64,
   "metadata": {},
   "outputs": [],
   "source": [
    "data.outage_type=data.outage_type.map({'outage_type_1':1,'outage_type_2':2,'outage_type_3':3,'outage_type_4': 4 , 'outage_type_5':5})"
   ]
  },
  {
   "cell_type": "code",
   "execution_count": 65,
   "metadata": {},
   "outputs": [],
   "source": [
    "test_data.outage_type=test_data.outage_type.map({'outage_type_1':1,'outage_type_2':2,'outage_type_3':3,'outage_type_4': 4 , 'outage_type_5':5})"
   ]
  },
  {
   "cell_type": "code",
   "execution_count": 66,
   "metadata": {},
   "outputs": [],
   "source": [
    "data.broadband_type=data.broadband_type.map({'broadband_type_1':1,'broadband_type_2':2,'broadband_type_3':3,'broadband_type_4': 4 , 'broadband_type_5':5, 'broadband_type_6':6, 'broadband_type_7':7, 'broadband_type_8':8, 'broadband_type_9':9, 'broadband_type_10':10})"
   ]
  },
  {
   "cell_type": "code",
   "execution_count": 67,
   "metadata": {},
   "outputs": [],
   "source": [
    "test_data.broadband_type=test_data.broadband_type.map({'broadband_type_1':1,'broadband_type_2':2,'broadband_type_3':3,'broadband_type_4': 4 , 'broadband_type_5':5, 'broadband_type_6':6, 'broadband_type_7':7, 'broadband_type_8':8, 'broadband_type_9':9, 'broadband_type_10':10})"
   ]
  },
  {
   "cell_type": "code",
   "execution_count": 68,
   "metadata": {},
   "outputs": [],
   "source": [
    "data.transit_server_type=data.transit_server_type.map({'transit_server_type_1':1,'transit_server_type_2':2,'transit_server_type_3':3,'transit_server_type_5':5,'transit_server_type_6':6,'transit_server_type_7':7,'transit_server_type_8':8,'transit_server_type_9':9,'transit_server_type_10':10,'transit_server_type_11':11,'transit_server_type_12':12,'transit_server_type_13':13,'transit_server_type_14':14,'transit_server_type_15':15,'transit_server_type_18':18,'transit_server_type_19':19,'transit_server_type_20':20,'transit_server_type_21':21,'transit_server_type_22':22,'transit_server_type_23':23,'transit_server_type_24':24,'transit_server_type_25':25,'transit_server_type_26':26,'transit_server_type_27':27,'transit_server_type_28':28,'transit_server_type_29':29,'transit_server_type_30':30,'transit_server_type_31':31,'transit_server_type_32':32,'transit_server_type_34':34,'transit_server_type_35':35,'transit_server_type_36':36,'transit_server_type_37':37,'transit_server_type_38':38,'transit_server_type_39':39,'transit_server_type_40':40,'transit_server_type_41':41,'transit_server_type_42':42,'transit_server_type_43':43,'transit_server_type_44':44,'transit_server_type_45':45,'transit_server_type_46':46,'transit_server_type_47':47,'transit_server_type_48':48,'transit_server_type_49':49,'transit_server_type_50':50,'transit_server_type_51':51,'transit_server_type_52':52,'transit_server_type_53':53,'transit_server_type_54':54})"
   ]
  },
  {
   "cell_type": "code",
   "execution_count": 69,
   "metadata": {},
   "outputs": [],
   "source": [
    "test_data.transit_server_type=test_data.transit_server_type.map({'transit_server_type_1':1,'transit_server_type_2':2,'transit_server_type_3':3,'transit_server_type_5':5,'transit_server_type_6':6,'transit_server_type_7':7,'transit_server_type_8':8,'transit_server_type_9':9,'transit_server_type_10':10,'transit_server_type_11':11,'transit_server_type_12':12,'transit_server_type_13':13,'transit_server_type_14':14,'transit_server_type_15':15,'transit_server_type_18':18,'transit_server_type_19':19,'transit_server_type_20':20,'transit_server_type_21':21,'transit_server_type_22':22,'transit_server_type_23':23,'transit_server_type_24':24,'transit_server_type_25':25,'transit_server_type_26':26,'transit_server_type_27':27,'transit_server_type_28':28,'transit_server_type_29':29,'transit_server_type_30':30,'transit_server_type_31':31,'transit_server_type_32':32,'transit_server_type_34':34,'transit_server_type_35':35,'transit_server_type_36':36,'transit_server_type_37':37,'transit_server_type_38':38,'transit_server_type_39':39,'transit_server_type_40':40,'transit_server_type_41':41,'transit_server_type_42':42,'transit_server_type_43':43,'transit_server_type_44':44,'transit_server_type_45':45,'transit_server_type_46':46,'transit_server_type_47':47,'transit_server_type_48':48,'transit_server_type_49':49,'transit_server_type_50':50,'transit_server_type_51':51,'transit_server_type_52':52,'transit_server_type_53':53,'transit_server_type_54':54})"
   ]
  },
  {
   "cell_type": "markdown",
   "metadata": {},
   "source": [
    "# Visualization \n"
   ]
  },
  {
   "cell_type": "code",
   "execution_count": null,
   "metadata": {},
   "outputs": [],
   "source": [
    "data.hist()"
   ]
  },
  {
   "cell_type": "code",
   "execution_count": null,
   "metadata": {},
   "outputs": [],
   "source": [
    "## plot below shows the value count of our three target classes and correlation map of our numeric features. \n",
    "f, axes = plt.subplots(1, 2, figsize=(16, 6))\n",
    "sns.countplot(x = data['outage_duration'], ax=axes[0])\n",
    "sns.heatmap(data.corr(), annot = True, cmap = \"Greens\", fmt = \".1f\", ax=axes[1])"
   ]
  },
  {
   "cell_type": "markdown",
   "metadata": {},
   "source": [
    "## above correlation map shows us there is some correlation between broadband type and outage duration also between transit server type and outage type ."
   ]
  },
  {
   "cell_type": "markdown",
   "metadata": {},
   "source": [
    "## below graph showes us relation between broadband type and outage duration . It could be inferred from the graph that broadband type 2 and 8 have more outages followed by broadband type 7,6,4. "
   ]
  },
  {
   "cell_type": "code",
   "execution_count": null,
   "metadata": {},
   "outputs": [],
   "source": [
    "plt.figure(figsize=(20,16))\n",
    "sns.countplot(x='broadband_type',hue='outage_duration',data=data, palette='Set1')\n",
    "plt.title(\"broadband_type and related outages \" , fontsize=17)\n",
    "plt.xlabel(\"broadband type\", fontsize=15)"
   ]
  },
  {
   "cell_type": "code",
   "execution_count": null,
   "metadata": {},
   "outputs": [],
   "source": [
    "data[\"transit_server_type\"].value_counts().plot(kind=\"bar\")"
   ]
  },
  {
   "cell_type": "code",
   "execution_count": null,
   "metadata": {},
   "outputs": [],
   "source": [
    "data[\"area_code\"].value_counts().head(50).plot(kind=\"bar\")"
   ]
  },
  {
   "cell_type": "markdown",
   "metadata": {},
   "source": [
    "## following graph below gives us an idea that transit servers 11,13,20 have more outage type 1  whereas in servers - 34,35 there is more outage type 2 \n"
   ]
  },
  {
   "cell_type": "code",
   "execution_count": null,
   "metadata": {},
   "outputs": [],
   "source": [
    "plt.figure(figsize=(20,16))\n",
    "sns.countplot(x='transit_server_type',hue='outage_type',data=data, palette='Set1')\n",
    "plt.title(\"transit_server_type and related outages \" , fontsize=17)\n",
    "plt.xlabel(\"transit server type\", fontsize=15)"
   ]
  },
  {
   "cell_type": "markdown",
   "metadata": {},
   "source": [
    "## below graph gives us an idea where transit server types 11,15,20,34,35 are predominant in outage duration 0.\n",
    "## server types 11,13,15,20,24,54 are predominant in  outage duration 1.\n",
    "## server types 11,13,15,42,43,44 are predominant in outage duration 2. "
   ]
  },
  {
   "cell_type": "code",
   "execution_count": null,
   "metadata": {},
   "outputs": [],
   "source": [
    "plt.figure(figsize=(20,16))\n",
    "sns.countplot(x='transit_server_type',hue='outage_duration',data=data, palette='Set1')\n",
    "plt.title(\"transit_server_type and related outages \" , fontsize=17)\n",
    "plt.xlabel(\"transit server type\", fontsize=15)"
   ]
  },
  {
   "cell_type": "markdown",
   "metadata": {},
   "source": [
    "### below graph shows us area codes and related outage durations "
   ]
  },
  {
   "cell_type": "code",
   "execution_count": null,
   "metadata": {},
   "outputs": [],
   "source": [
    "sns.set_style('whitegrid')\n",
    "sns.countplot(x='outage_duration',hue='area_code',data=data,palette='rainbow')"
   ]
  },
  {
   "cell_type": "code",
   "execution_count": null,
   "metadata": {},
   "outputs": [],
   "source": [
    "plt.figure(figsize=(20,16))\n",
    "sns.countplot(x='transit_server_type',hue='broadband_type',data=data, palette='Set1')\n",
    "plt.title(\"transit_server_type and broadband \" , fontsize=17)\n",
    "plt.xlabel(\"transit server type\", fontsize=15)"
   ]
  },
  {
   "cell_type": "markdown",
   "metadata": {},
   "source": [
    "## above graph shows us broadband type 2 and 8 are dominant in server types 11 and 15 and 34 and 35. From graphs inferred above we saw broadband 2 and 8 were ADSL type. "
   ]
  },
  {
   "cell_type": "markdown",
   "metadata": {},
   "source": [
    "## droping \"id\" column "
   ]
  },
  {
   "cell_type": "code",
   "execution_count": 116,
   "metadata": {},
   "outputs": [],
   "source": [
    "\n",
    "test_data.drop(columns = [\"log_report_type\"], axis = 1, inplace = True)"
   ]
  },
  {
   "cell_type": "code",
   "execution_count": 117,
   "metadata": {},
   "outputs": [
    {
     "data": {
      "text/html": [
       "<div>\n",
       "<style scoped>\n",
       "    .dataframe tbody tr th:only-of-type {\n",
       "        vertical-align: middle;\n",
       "    }\n",
       "\n",
       "    .dataframe tbody tr th {\n",
       "        vertical-align: top;\n",
       "    }\n",
       "\n",
       "    .dataframe thead th {\n",
       "        text-align: right;\n",
       "    }\n",
       "</style>\n",
       "<table border=\"1\" class=\"dataframe\">\n",
       "  <thead>\n",
       "    <tr style=\"text-align: right;\">\n",
       "      <th></th>\n",
       "      <th>volume</th>\n",
       "      <th>broadband_type</th>\n",
       "      <th>transit_server_type</th>\n",
       "      <th>outage_type</th>\n",
       "      <th>area_code</th>\n",
       "      <th>id_y</th>\n",
       "    </tr>\n",
       "  </thead>\n",
       "  <tbody>\n",
       "    <tr>\n",
       "      <th>0</th>\n",
       "      <td>7.0</td>\n",
       "      <td>8.0</td>\n",
       "      <td>15.0</td>\n",
       "      <td>2.0</td>\n",
       "      <td>0</td>\n",
       "      <td>8148</td>\n",
       "    </tr>\n",
       "    <tr>\n",
       "      <th>149</th>\n",
       "      <td>7.0</td>\n",
       "      <td>8.0</td>\n",
       "      <td>15.0</td>\n",
       "      <td>2.0</td>\n",
       "      <td>0</td>\n",
       "      <td>2250</td>\n",
       "    </tr>\n",
       "    <tr>\n",
       "      <th>298</th>\n",
       "      <td>1.0</td>\n",
       "      <td>2.0</td>\n",
       "      <td>34.0</td>\n",
       "      <td>2.0</td>\n",
       "      <td>1</td>\n",
       "      <td>3331</td>\n",
       "    </tr>\n",
       "    <tr>\n",
       "      <th>361</th>\n",
       "      <td>1.0</td>\n",
       "      <td>2.0</td>\n",
       "      <td>34.0</td>\n",
       "      <td>2.0</td>\n",
       "      <td>1</td>\n",
       "      <td>6474</td>\n",
       "    </tr>\n",
       "    <tr>\n",
       "      <th>424</th>\n",
       "      <td>1.0</td>\n",
       "      <td>2.0</td>\n",
       "      <td>34.0</td>\n",
       "      <td>2.0</td>\n",
       "      <td>1</td>\n",
       "      <td>15850</td>\n",
       "    </tr>\n",
       "  </tbody>\n",
       "</table>\n",
       "</div>"
      ],
      "text/plain": [
       "     volume  broadband_type  transit_server_type  outage_type  area_code  \\\n",
       "0       7.0             8.0                 15.0          2.0          0   \n",
       "149     7.0             8.0                 15.0          2.0          0   \n",
       "298     1.0             2.0                 34.0          2.0          1   \n",
       "361     1.0             2.0                 34.0          2.0          1   \n",
       "424     1.0             2.0                 34.0          2.0          1   \n",
       "\n",
       "      id_y  \n",
       "0     8148  \n",
       "149   2250  \n",
       "298   3331  \n",
       "361   6474  \n",
       "424  15850  "
      ]
     },
     "execution_count": 117,
     "metadata": {},
     "output_type": "execute_result"
    }
   ],
   "source": [
    "test_data.head(5)"
   ]
  },
  {
   "cell_type": "markdown",
   "metadata": {},
   "source": [
    "# Separating our dependant and independant variables."
   ]
  },
  {
   "cell_type": "code",
   "execution_count": 94,
   "metadata": {},
   "outputs": [],
   "source": [
    "X = data.drop('outage_duration', axis = 1)\n",
    "y = data['outage_duration']"
   ]
  },
  {
   "cell_type": "code",
   "execution_count": 95,
   "metadata": {},
   "outputs": [
    {
     "data": {
      "text/plain": [
       "log_report_type        int16\n",
       "volume                 int64\n",
       "broadband_type         int64\n",
       "transit_server_type    int64\n",
       "outage_type            int64\n",
       "area_code              int16\n",
       "outage_duration        int64\n",
       "dtype: object"
      ]
     },
     "execution_count": 95,
     "metadata": {},
     "output_type": "execute_result"
    }
   ],
   "source": [
    "data.dtypes"
   ]
  },
  {
   "cell_type": "code",
   "execution_count": 114,
   "metadata": {},
   "outputs": [
    {
     "data": {
      "text/plain": [
       "log_report_type           int8\n",
       "volume                 float64\n",
       "broadband_type         float64\n",
       "transit_server_type    float64\n",
       "outage_type            float64\n",
       "area_code                int16\n",
       "id_y                     int64\n",
       "dtype: object"
      ]
     },
     "execution_count": 114,
     "metadata": {},
     "output_type": "execute_result"
    }
   ],
   "source": [
    "test_data.dtypes"
   ]
  },
  {
   "cell_type": "code",
   "execution_count": 97,
   "metadata": {},
   "outputs": [
    {
     "data": {
      "text/plain": [
       "(48973, 6)"
      ]
     },
     "execution_count": 97,
     "metadata": {},
     "output_type": "execute_result"
    }
   ],
   "source": [
    "X.shape"
   ]
  },
  {
   "cell_type": "code",
   "execution_count": 98,
   "metadata": {},
   "outputs": [
    {
     "data": {
      "text/plain": [
       "(48973,)"
      ]
     },
     "execution_count": 98,
     "metadata": {},
     "output_type": "execute_result"
    }
   ],
   "source": [
    "y.shape"
   ]
  },
  {
   "cell_type": "markdown",
   "metadata": {},
   "source": [
    "# Train Test Split"
   ]
  },
  {
   "cell_type": "code",
   "execution_count": 99,
   "metadata": {},
   "outputs": [],
   "source": [
    "from sklearn.model_selection import train_test_split\n",
    "X_train, X_test, y_train, y_test = train_test_split(X, y, test_size = 0.3, random_state = 123)"
   ]
  },
  {
   "cell_type": "code",
   "execution_count": 100,
   "metadata": {},
   "outputs": [
    {
     "data": {
      "text/plain": [
       "(34281, 6)"
      ]
     },
     "execution_count": 100,
     "metadata": {},
     "output_type": "execute_result"
    }
   ],
   "source": [
    "X_train.shape"
   ]
  },
  {
   "cell_type": "code",
   "execution_count": 101,
   "metadata": {},
   "outputs": [
    {
     "data": {
      "text/plain": [
       "(14692, 6)"
      ]
     },
     "execution_count": 101,
     "metadata": {},
     "output_type": "execute_result"
    }
   ],
   "source": [
    "X_test.shape"
   ]
  },
  {
   "cell_type": "code",
   "execution_count": 102,
   "metadata": {},
   "outputs": [
    {
     "data": {
      "text/plain": [
       "(34281,)"
      ]
     },
     "execution_count": 102,
     "metadata": {},
     "output_type": "execute_result"
    }
   ],
   "source": [
    "y_train.shape"
   ]
  },
  {
   "cell_type": "code",
   "execution_count": 103,
   "metadata": {},
   "outputs": [
    {
     "data": {
      "text/plain": [
       "(14692,)"
      ]
     },
     "execution_count": 103,
     "metadata": {},
     "output_type": "execute_result"
    }
   ],
   "source": [
    "y_test.shape"
   ]
  },
  {
   "cell_type": "markdown",
   "metadata": {},
   "source": [
    "# Model building and evaluation"
   ]
  },
  {
   "cell_type": "code",
   "execution_count": 104,
   "metadata": {},
   "outputs": [],
   "source": [
    "from sklearn.model_selection import GridSearchCV\n",
    "\n",
    "def model_building(X, y, test, model, params = None, k = 1) :\n",
    "    \n",
    "    if params == None :\n",
    "        model.fit(X, y)\n",
    "        \n",
    "        # return fitted model & train-test predictions\n",
    "        return (model, model.predict(X), model.predict(test))\n",
    "    \n",
    "    else :\n",
    "        model_cv = GridSearchCV(model, param_grid = params, cv = k)\n",
    "        model_cv.fit(X, y)\n",
    "        model = model_cv\n",
    "        \n",
    "        \n",
    "        # return and extra object for all cross validation operations\n",
    "        return (model_cv, model, model.predict(X), model.predict(test))"
   ]
  },
  {
   "cell_type": "code",
   "execution_count": 105,
   "metadata": {},
   "outputs": [],
   "source": [
    "from sklearn.metrics import confusion_matrix \n",
    "from sklearn.metrics import accuracy_score \n",
    "from sklearn.metrics import classification_report \n",
    "from sklearn.metrics import f1_score\n",
    "\n",
    "def model_evaluation(y_train, pred_train, y_test, pred_test) :\n",
    "    \n",
    "    print('''\n",
    "            =========================================\n",
    "               CLASSIFICATION REPORT FOR TRAIN DATA\n",
    "            =========================================''')\n",
    "    print(classification_report(y_train, pred_train))\n",
    "    print(\"f1_score: \",f1_score(y_train,pred_train, average= \"macro\")) \n",
    "    print('\\nConfusion Matrix :')\n",
    "    print(confusion_matrix(y_test, pred_test) ) \n",
    "    print('\\nAccuracy Score :', accuracy_score(y_test, pred_test)) \n",
    "    \n",
    "    \n",
    "    print('''\n",
    "            =========================================\n",
    "               CLASSIFICATION REPORT FOR TEST DATA\n",
    "            =========================================''')\n",
    "    print(classification_report(y_test, pred_test))\n",
    "    print(\"f1_score: \",f1_score(y_test,pred_test, average = \"macro\" ))\n",
    "    print('\\nConfusion Matrix :')\n",
    "    print(confusion_matrix(y_test, pred_test) ) \n",
    "    print('\\nAccuracy Score :', accuracy_score(y_test, pred_test)) "
   ]
  },
  {
   "cell_type": "markdown",
   "metadata": {},
   "source": [
    "## logistic regression"
   ]
  },
  {
   "cell_type": "code",
   "execution_count": 106,
   "metadata": {},
   "outputs": [],
   "source": [
    "from sklearn.linear_model import LogisticRegression\n",
    "\n",
    "model, pred_train, pred_test = model_building(X_train, y_train, X_test, LogisticRegression())"
   ]
  },
  {
   "cell_type": "code",
   "execution_count": 107,
   "metadata": {},
   "outputs": [
    {
     "name": "stdout",
     "output_type": "stream",
     "text": [
      "\n",
      "            =========================================\n",
      "               CLASSIFICATION REPORT FOR TRAIN DATA\n",
      "            =========================================\n",
      "             precision    recall  f1-score   support\n",
      "\n",
      "          0       0.63      0.88      0.74     20538\n",
      "          1       0.39      0.24      0.30      8987\n",
      "          2       0.39      0.01      0.03      4756\n",
      "\n",
      "avg / total       0.54      0.59      0.52     34281\n",
      "\n",
      "f1_score:  0.3546729616471343\n",
      "\n",
      "Confusion Matrix :\n",
      "[[7681 1097   31]\n",
      " [2874  943    8]\n",
      " [1600  431   27]]\n",
      "\n",
      "Accuracy Score : 0.5888238497141302\n",
      "\n",
      "            =========================================\n",
      "               CLASSIFICATION REPORT FOR TEST DATA\n",
      "            =========================================\n",
      "             precision    recall  f1-score   support\n",
      "\n",
      "          0       0.63      0.87      0.73      8809\n",
      "          1       0.38      0.25      0.30      3825\n",
      "          2       0.41      0.01      0.03      2058\n",
      "\n",
      "avg / total       0.54      0.59      0.52     14692\n",
      "\n",
      "f1_score:  0.35258633527298383\n",
      "\n",
      "Confusion Matrix :\n",
      "[[7681 1097   31]\n",
      " [2874  943    8]\n",
      " [1600  431   27]]\n",
      "\n",
      "Accuracy Score : 0.5888238497141302\n"
     ]
    }
   ],
   "source": [
    "model_evaluation(y_train, pred_train, y_test, pred_test)"
   ]
  },
  {
   "cell_type": "markdown",
   "metadata": {},
   "source": [
    "## Bagging classifier"
   ]
  },
  {
   "cell_type": "code",
   "execution_count": 108,
   "metadata": {},
   "outputs": [],
   "source": [
    "from sklearn.ensemble import BaggingClassifier\n",
    "model1, pred_train, pred_val = model_building(X_train, y_train, X_test, BaggingClassifier())"
   ]
  },
  {
   "cell_type": "code",
   "execution_count": 109,
   "metadata": {},
   "outputs": [
    {
     "name": "stdout",
     "output_type": "stream",
     "text": [
      "\n",
      "            =========================================\n",
      "               CLASSIFICATION REPORT FOR TRAIN DATA\n",
      "            =========================================\n",
      "             precision    recall  f1-score   support\n",
      "\n",
      "          0       0.96      0.97      0.96     20538\n",
      "          1       0.92      0.91      0.91      8987\n",
      "          2       0.93      0.92      0.93      4756\n",
      "\n",
      "avg / total       0.94      0.94      0.94     34281\n",
      "\n",
      "f1_score:  0.9334001487402445\n",
      "\n",
      "Confusion Matrix :\n",
      "[[7681 1097   31]\n",
      " [2874  943    8]\n",
      " [1600  431   27]]\n",
      "\n",
      "Accuracy Score : 0.5888238497141302\n",
      "\n",
      "            =========================================\n",
      "               CLASSIFICATION REPORT FOR TEST DATA\n",
      "            =========================================\n",
      "             precision    recall  f1-score   support\n",
      "\n",
      "          0       0.63      0.87      0.73      8809\n",
      "          1       0.38      0.25      0.30      3825\n",
      "          2       0.41      0.01      0.03      2058\n",
      "\n",
      "avg / total       0.54      0.59      0.52     14692\n",
      "\n",
      "f1_score:  0.35258633527298383\n",
      "\n",
      "Confusion Matrix :\n",
      "[[7681 1097   31]\n",
      " [2874  943    8]\n",
      " [1600  431   27]]\n",
      "\n",
      "Accuracy Score : 0.5888238497141302\n"
     ]
    }
   ],
   "source": [
    " model_evaluation(y_train, pred_train, y_test, pred_test)"
   ]
  },
  {
   "cell_type": "markdown",
   "metadata": {},
   "source": [
    "## DecisionTree Classifier "
   ]
  },
  {
   "cell_type": "code",
   "execution_count": 110,
   "metadata": {},
   "outputs": [
    {
     "name": "stdout",
     "output_type": "stream",
     "text": [
      "\n",
      "            =========================================\n",
      "               CLASSIFICATION REPORT FOR TRAIN DATA\n",
      "            =========================================\n",
      "             precision    recall  f1-score   support\n",
      "\n",
      "          0       0.96      0.96      0.96     20538\n",
      "          1       0.91      0.90      0.91      8987\n",
      "          2       0.93      0.91      0.92      4756\n",
      "\n",
      "avg / total       0.94      0.94      0.94     34281\n",
      "\n",
      "f1_score:  0.9293429783309457\n",
      "\n",
      "Confusion Matrix :\n",
      "[[7564  972  273]\n",
      " [1196 2323  306]\n",
      " [ 391  324 1343]]\n",
      "\n",
      "Accuracy Score : 0.7643615573101007\n",
      "\n",
      "            =========================================\n",
      "               CLASSIFICATION REPORT FOR TEST DATA\n",
      "            =========================================\n",
      "             precision    recall  f1-score   support\n",
      "\n",
      "          0       0.83      0.86      0.84      8809\n",
      "          1       0.64      0.61      0.62      3825\n",
      "          2       0.70      0.65      0.67      2058\n",
      "\n",
      "avg / total       0.76      0.76      0.76     14692\n",
      "\n",
      "f1_score:  0.7137724812507654\n",
      "\n",
      "Confusion Matrix :\n",
      "[[7564  972  273]\n",
      " [1196 2323  306]\n",
      " [ 391  324 1343]]\n",
      "\n",
      "Accuracy Score : 0.7643615573101007\n"
     ]
    }
   ],
   "source": [
    "from sklearn.ensemble import RandomForestClassifier\n",
    "\n",
    "model, pred_train, pred_test = model_building(X_train, y_train, X_test, RandomForestClassifier())\n",
    "model_evaluation(y_train, pred_train, y_test, pred_test)"
   ]
  },
  {
   "cell_type": "code",
   "execution_count": 118,
   "metadata": {},
   "outputs": [
    {
     "data": {
      "text/plain": [
       "DecisionTreeClassifier(class_weight=None, criterion='entropy', max_depth=None,\n",
       "            max_features=None, max_leaf_nodes=None,\n",
       "            min_impurity_decrease=0.0, min_impurity_split=None,\n",
       "            min_samples_leaf=1, min_samples_split=2,\n",
       "            min_weight_fraction_leaf=0.0, presort=False, random_state=0,\n",
       "            splitter='best')"
      ]
     },
     "execution_count": 118,
     "metadata": {},
     "output_type": "execute_result"
    }
   ],
   "source": [
    "from sklearn.tree import DecisionTreeClassifier\n",
    "classifier = DecisionTreeClassifier(criterion = 'entropy', random_state = 0)\n",
    "classifier.fit(X_train, y_train)"
   ]
  },
  {
   "cell_type": "code",
   "execution_count": 119,
   "metadata": {},
   "outputs": [
    {
     "data": {
      "text/plain": [
       "array([2, 2, 1, ..., 0, 0, 0], dtype=int64)"
      ]
     },
     "execution_count": 119,
     "metadata": {},
     "output_type": "execute_result"
    }
   ],
   "source": [
    "output = classifier.predict(test_data)\n",
    "output"
   ]
  },
  {
   "cell_type": "code",
   "execution_count": 120,
   "metadata": {},
   "outputs": [],
   "source": [
    "  output = pd.DataFrame({\n",
    "        \"id\": test1,\n",
    "        \"outage_duration\": output\n",
    "    })\n",
    "\n",
    "output.to_csv('test1.csv', index=False)"
   ]
  },
  {
   "cell_type": "code",
   "execution_count": 121,
   "metadata": {},
   "outputs": [
    {
     "data": {
      "text/html": [
       "<div>\n",
       "<style scoped>\n",
       "    .dataframe tbody tr th:only-of-type {\n",
       "        vertical-align: middle;\n",
       "    }\n",
       "\n",
       "    .dataframe tbody tr th {\n",
       "        vertical-align: top;\n",
       "    }\n",
       "\n",
       "    .dataframe thead th {\n",
       "        text-align: right;\n",
       "    }\n",
       "</style>\n",
       "<table border=\"1\" class=\"dataframe\">\n",
       "  <thead>\n",
       "    <tr style=\"text-align: right;\">\n",
       "      <th></th>\n",
       "      <th>id</th>\n",
       "      <th>outage_duration</th>\n",
       "    </tr>\n",
       "  </thead>\n",
       "  <tbody>\n",
       "    <tr>\n",
       "      <th>0</th>\n",
       "      <td>3340</td>\n",
       "      <td>2</td>\n",
       "    </tr>\n",
       "    <tr>\n",
       "      <th>1</th>\n",
       "      <td>14067</td>\n",
       "      <td>2</td>\n",
       "    </tr>\n",
       "    <tr>\n",
       "      <th>2</th>\n",
       "      <td>1134</td>\n",
       "      <td>1</td>\n",
       "    </tr>\n",
       "    <tr>\n",
       "      <th>3</th>\n",
       "      <td>27</td>\n",
       "      <td>1</td>\n",
       "    </tr>\n",
       "    <tr>\n",
       "      <th>4</th>\n",
       "      <td>9793</td>\n",
       "      <td>1</td>\n",
       "    </tr>\n",
       "    <tr>\n",
       "      <th>5</th>\n",
       "      <td>12010</td>\n",
       "      <td>1</td>\n",
       "    </tr>\n",
       "    <tr>\n",
       "      <th>6</th>\n",
       "      <td>7213</td>\n",
       "      <td>1</td>\n",
       "    </tr>\n",
       "    <tr>\n",
       "      <th>7</th>\n",
       "      <td>16347</td>\n",
       "      <td>0</td>\n",
       "    </tr>\n",
       "    <tr>\n",
       "      <th>8</th>\n",
       "      <td>8811</td>\n",
       "      <td>0</td>\n",
       "    </tr>\n",
       "    <tr>\n",
       "      <th>9</th>\n",
       "      <td>17705</td>\n",
       "      <td>0</td>\n",
       "    </tr>\n",
       "    <tr>\n",
       "      <th>10</th>\n",
       "      <td>7886</td>\n",
       "      <td>0</td>\n",
       "    </tr>\n",
       "    <tr>\n",
       "      <th>11</th>\n",
       "      <td>2722</td>\n",
       "      <td>0</td>\n",
       "    </tr>\n",
       "    <tr>\n",
       "      <th>12</th>\n",
       "      <td>17659</td>\n",
       "      <td>0</td>\n",
       "    </tr>\n",
       "    <tr>\n",
       "      <th>13</th>\n",
       "      <td>7518</td>\n",
       "      <td>0</td>\n",
       "    </tr>\n",
       "    <tr>\n",
       "      <th>14</th>\n",
       "      <td>7423</td>\n",
       "      <td>0</td>\n",
       "    </tr>\n",
       "    <tr>\n",
       "      <th>15</th>\n",
       "      <td>6174</td>\n",
       "      <td>0</td>\n",
       "    </tr>\n",
       "    <tr>\n",
       "      <th>16</th>\n",
       "      <td>8504</td>\n",
       "      <td>0</td>\n",
       "    </tr>\n",
       "    <tr>\n",
       "      <th>17</th>\n",
       "      <td>15199</td>\n",
       "      <td>0</td>\n",
       "    </tr>\n",
       "    <tr>\n",
       "      <th>18</th>\n",
       "      <td>4403</td>\n",
       "      <td>0</td>\n",
       "    </tr>\n",
       "    <tr>\n",
       "      <th>19</th>\n",
       "      <td>3778</td>\n",
       "      <td>0</td>\n",
       "    </tr>\n",
       "    <tr>\n",
       "      <th>20</th>\n",
       "      <td>13341</td>\n",
       "      <td>0</td>\n",
       "    </tr>\n",
       "    <tr>\n",
       "      <th>21</th>\n",
       "      <td>3271</td>\n",
       "      <td>0</td>\n",
       "    </tr>\n",
       "    <tr>\n",
       "      <th>22</th>\n",
       "      <td>11125</td>\n",
       "      <td>0</td>\n",
       "    </tr>\n",
       "    <tr>\n",
       "      <th>23</th>\n",
       "      <td>11786</td>\n",
       "      <td>0</td>\n",
       "    </tr>\n",
       "    <tr>\n",
       "      <th>24</th>\n",
       "      <td>8572</td>\n",
       "      <td>0</td>\n",
       "    </tr>\n",
       "    <tr>\n",
       "      <th>25</th>\n",
       "      <td>14129</td>\n",
       "      <td>0</td>\n",
       "    </tr>\n",
       "    <tr>\n",
       "      <th>26</th>\n",
       "      <td>18375</td>\n",
       "      <td>0</td>\n",
       "    </tr>\n",
       "    <tr>\n",
       "      <th>27</th>\n",
       "      <td>3711</td>\n",
       "      <td>1</td>\n",
       "    </tr>\n",
       "    <tr>\n",
       "      <th>28</th>\n",
       "      <td>4750</td>\n",
       "      <td>1</td>\n",
       "    </tr>\n",
       "    <tr>\n",
       "      <th>29</th>\n",
       "      <td>9510</td>\n",
       "      <td>1</td>\n",
       "    </tr>\n",
       "    <tr>\n",
       "      <th>...</th>\n",
       "      <td>...</td>\n",
       "      <td>...</td>\n",
       "    </tr>\n",
       "    <tr>\n",
       "      <th>1447</th>\n",
       "      <td>583</td>\n",
       "      <td>0</td>\n",
       "    </tr>\n",
       "    <tr>\n",
       "      <th>1448</th>\n",
       "      <td>14505</td>\n",
       "      <td>0</td>\n",
       "    </tr>\n",
       "    <tr>\n",
       "      <th>1449</th>\n",
       "      <td>18193</td>\n",
       "      <td>0</td>\n",
       "    </tr>\n",
       "    <tr>\n",
       "      <th>1450</th>\n",
       "      <td>11992</td>\n",
       "      <td>0</td>\n",
       "    </tr>\n",
       "    <tr>\n",
       "      <th>1451</th>\n",
       "      <td>10455</td>\n",
       "      <td>0</td>\n",
       "    </tr>\n",
       "    <tr>\n",
       "      <th>1452</th>\n",
       "      <td>9132</td>\n",
       "      <td>0</td>\n",
       "    </tr>\n",
       "    <tr>\n",
       "      <th>1453</th>\n",
       "      <td>14611</td>\n",
       "      <td>0</td>\n",
       "    </tr>\n",
       "    <tr>\n",
       "      <th>1454</th>\n",
       "      <td>4552</td>\n",
       "      <td>0</td>\n",
       "    </tr>\n",
       "    <tr>\n",
       "      <th>1455</th>\n",
       "      <td>8564</td>\n",
       "      <td>0</td>\n",
       "    </tr>\n",
       "    <tr>\n",
       "      <th>1456</th>\n",
       "      <td>2857</td>\n",
       "      <td>0</td>\n",
       "    </tr>\n",
       "    <tr>\n",
       "      <th>1457</th>\n",
       "      <td>3122</td>\n",
       "      <td>0</td>\n",
       "    </tr>\n",
       "    <tr>\n",
       "      <th>1458</th>\n",
       "      <td>15017</td>\n",
       "      <td>0</td>\n",
       "    </tr>\n",
       "    <tr>\n",
       "      <th>1459</th>\n",
       "      <td>14009</td>\n",
       "      <td>0</td>\n",
       "    </tr>\n",
       "    <tr>\n",
       "      <th>1460</th>\n",
       "      <td>1378</td>\n",
       "      <td>0</td>\n",
       "    </tr>\n",
       "    <tr>\n",
       "      <th>1461</th>\n",
       "      <td>10752</td>\n",
       "      <td>0</td>\n",
       "    </tr>\n",
       "    <tr>\n",
       "      <th>1462</th>\n",
       "      <td>6551</td>\n",
       "      <td>0</td>\n",
       "    </tr>\n",
       "    <tr>\n",
       "      <th>1463</th>\n",
       "      <td>11311</td>\n",
       "      <td>0</td>\n",
       "    </tr>\n",
       "    <tr>\n",
       "      <th>1464</th>\n",
       "      <td>8099</td>\n",
       "      <td>0</td>\n",
       "    </tr>\n",
       "    <tr>\n",
       "      <th>1465</th>\n",
       "      <td>5464</td>\n",
       "      <td>0</td>\n",
       "    </tr>\n",
       "    <tr>\n",
       "      <th>1466</th>\n",
       "      <td>14735</td>\n",
       "      <td>0</td>\n",
       "    </tr>\n",
       "    <tr>\n",
       "      <th>1467</th>\n",
       "      <td>7221</td>\n",
       "      <td>0</td>\n",
       "    </tr>\n",
       "    <tr>\n",
       "      <th>1468</th>\n",
       "      <td>13377</td>\n",
       "      <td>0</td>\n",
       "    </tr>\n",
       "    <tr>\n",
       "      <th>1469</th>\n",
       "      <td>15505</td>\n",
       "      <td>0</td>\n",
       "    </tr>\n",
       "    <tr>\n",
       "      <th>1470</th>\n",
       "      <td>1967</td>\n",
       "      <td>0</td>\n",
       "    </tr>\n",
       "    <tr>\n",
       "      <th>1471</th>\n",
       "      <td>8582</td>\n",
       "      <td>0</td>\n",
       "    </tr>\n",
       "    <tr>\n",
       "      <th>1472</th>\n",
       "      <td>7975</td>\n",
       "      <td>0</td>\n",
       "    </tr>\n",
       "    <tr>\n",
       "      <th>1473</th>\n",
       "      <td>10664</td>\n",
       "      <td>0</td>\n",
       "    </tr>\n",
       "    <tr>\n",
       "      <th>1474</th>\n",
       "      <td>7753</td>\n",
       "      <td>0</td>\n",
       "    </tr>\n",
       "    <tr>\n",
       "      <th>1475</th>\n",
       "      <td>989</td>\n",
       "      <td>0</td>\n",
       "    </tr>\n",
       "    <tr>\n",
       "      <th>1476</th>\n",
       "      <td>3129</td>\n",
       "      <td>0</td>\n",
       "    </tr>\n",
       "  </tbody>\n",
       "</table>\n",
       "<p>1477 rows × 2 columns</p>\n",
       "</div>"
      ],
      "text/plain": [
       "         id  outage_duration\n",
       "0      3340                2\n",
       "1     14067                2\n",
       "2      1134                1\n",
       "3        27                1\n",
       "4      9793                1\n",
       "5     12010                1\n",
       "6      7213                1\n",
       "7     16347                0\n",
       "8      8811                0\n",
       "9     17705                0\n",
       "10     7886                0\n",
       "11     2722                0\n",
       "12    17659                0\n",
       "13     7518                0\n",
       "14     7423                0\n",
       "15     6174                0\n",
       "16     8504                0\n",
       "17    15199                0\n",
       "18     4403                0\n",
       "19     3778                0\n",
       "20    13341                0\n",
       "21     3271                0\n",
       "22    11125                0\n",
       "23    11786                0\n",
       "24     8572                0\n",
       "25    14129                0\n",
       "26    18375                0\n",
       "27     3711                1\n",
       "28     4750                1\n",
       "29     9510                1\n",
       "...     ...              ...\n",
       "1447    583                0\n",
       "1448  14505                0\n",
       "1449  18193                0\n",
       "1450  11992                0\n",
       "1451  10455                0\n",
       "1452   9132                0\n",
       "1453  14611                0\n",
       "1454   4552                0\n",
       "1455   8564                0\n",
       "1456   2857                0\n",
       "1457   3122                0\n",
       "1458  15017                0\n",
       "1459  14009                0\n",
       "1460   1378                0\n",
       "1461  10752                0\n",
       "1462   6551                0\n",
       "1463  11311                0\n",
       "1464   8099                0\n",
       "1465   5464                0\n",
       "1466  14735                0\n",
       "1467   7221                0\n",
       "1468  13377                0\n",
       "1469  15505                0\n",
       "1470   1967                0\n",
       "1471   8582                0\n",
       "1472   7975                0\n",
       "1473  10664                0\n",
       "1474   7753                0\n",
       "1475    989                0\n",
       "1476   3129                0\n",
       "\n",
       "[1477 rows x 2 columns]"
      ]
     },
     "execution_count": 121,
     "metadata": {},
     "output_type": "execute_result"
    }
   ],
   "source": [
    "output"
   ]
  },
  {
   "cell_type": "code",
   "execution_count": 122,
   "metadata": {},
   "outputs": [],
   "source": [
    "output[['id','outage_duration']].to_csv(r'C:\\Users\\LENOVO PC\\Desktop\\aman\\phd\\data\\output.csv',index=False)"
   ]
  },
  {
   "cell_type": "code",
   "execution_count": null,
   "metadata": {},
   "outputs": [],
   "source": []
  }
 ],
 "metadata": {
  "kernelspec": {
   "display_name": "Python 3",
   "language": "python",
   "name": "python3"
  },
  "language_info": {
   "codemirror_mode": {
    "name": "ipython",
    "version": 3
   },
   "file_extension": ".py",
   "mimetype": "text/x-python",
   "name": "python",
   "nbconvert_exporter": "python",
   "pygments_lexer": "ipython3",
   "version": "3.6.5"
  }
 },
 "nbformat": 4,
 "nbformat_minor": 2
}
